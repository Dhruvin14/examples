{
 "cells": [
  {
   "cell_type": "markdown",
   "metadata": {
    "slideshow": {
     "slide_type": "skip"
    }
   },
   "source": [
    "<img src=\"http://reiner-lemoine-institut.de//wp-content/uploads/2015/09/rlilogo.png\" alt=\"RLI\" height=\"100\" width=\"100\" align=\"right\"/>\n",
    "\n",
    "# appBBB with UML\n",
    "\n",
    "This script uses package _iplantuml_ for plotting UMLs\n",
    "\n",
    "Installation:\n",
    "* install java: `sudo apt-get install default-jre graphviz`\n",
    "* download _plantuml.jar_ from http://plantuml.com/ and put it into _/usr/local/bin_\n",
    "* install package: `pip install iplantuml`\n",
    "* `import iplantuml`\n",
    "* done"
   ]
  },
  {
   "cell_type": "code",
   "execution_count": 20,
   "metadata": {},
   "outputs": [],
   "source": [
    "__copyright__ = \"Reiner Lemoine Institut\"\n",
    "__license__   = \"GNU Affero General Public License Version 3 (AGPL-3.0)\"\n",
    "__url__       = \"https://github.com/OpenEnergyPlatform/examples/blob/master/LICENSE\"\n",
    "__author__    = \"oakca\""
   ]
  },
  {
   "cell_type": "code",
   "execution_count": 18,
   "metadata": {
    "slideshow": {
     "slide_type": "skip"
    }
   },
   "outputs": [],
   "source": [
    "import iplantuml"
   ]
  },
  {
   "cell_type": "markdown",
   "metadata": {
    "slideshow": {
     "slide_type": "subslide"
    }
   },
   "source": [
    "## appBBB UML Diagrams"
   ]
  },
  {
   "cell_type": "code",
   "execution_count": 24,
   "metadata": {
    "rise": {
     "scroll": true
    },
    "scrolled": true,
    "slideshow": {
     "slide_type": "fragment"
    }
   },
   "outputs": [
    {
     "data": {
      "image/svg+xml": [
       "<svg contentScriptType=\"application/ecmascript\" contentStyleType=\"text/css\" height=\"693px\" preserveAspectRatio=\"none\" style=\"width:603px;height:693px;\" version=\"1.1\" viewBox=\"0 0 603 693\" width=\"603px\" xmlns=\"http://www.w3.org/2000/svg\" xmlns:xlink=\"http://www.w3.org/1999/xlink\" zoomAndPan=\"magnify\"><defs><filter height=\"300%\" id=\"f1sz4nd2duubf1\" width=\"300%\" x=\"-1\" y=\"-1\"><feGaussianBlur result=\"blurOut\" stdDeviation=\"2.0\"/><feColorMatrix in=\"blurOut\" result=\"blurOut2\" type=\"matrix\" values=\"0 0 0 0 0 0 0 0 0 0 0 0 0 0 0 0 0 0 .4 0\"/><feOffset dx=\"4.0\" dy=\"4.0\" in=\"blurOut2\" result=\"blurOut3\"/><feBlend in=\"SourceGraphic\" in2=\"blurOut3\" mode=\"normal\"/></filter></defs><g><!--class t1--><rect fill=\"#FEFECE\" filter=\"url(#f1sz4nd2duubf1)\" height=\"99.2188\" id=\"t1\" style=\"stroke: #A80036; stroke-width: 1.5;\" width=\"141\" x=\"39.5\" y=\"21\"/><ellipse cx=\"54.5\" cy=\"37\" fill=\"#FFAAAA\" rx=\"11\" ry=\"11\" style=\"stroke: #A80036; stroke-width: 1.0;\"/><path d=\"M55.3438,43.75 L52.8906,43.75 L52.8906,33.5 L49.75,33.5 L49.75,31.3594 L58.4844,31.3594 L58.4844,33.5 L55.3438,33.5 L55.3438,43.75 Z \"/><text fill=\"#000000\" font-family=\"sans-serif\" font-size=\"12\" lengthAdjust=\"spacingAndGlyphs\" textLength=\"109\" x=\"68.5\" y=\"41.1543\">abbb_constraints</text><line style=\"stroke: #A80036; stroke-width: 1.5;\" x1=\"40.5\" x2=\"179.5\" y1=\"53\" y2=\"53\"/><image height=\"12\" width=\"17\" x=\"45.5\" xlink:href=\"data:image/png;base64,iVBORw0KGgoAAAANSUhEUgAAABEAAAAMCAIAAAALR8HoAAAAlElEQVR42mP49+8cqYgBmTNzZg0EEasHrvTdu4P4tTHANQCVIiO4ncgIoaejIw+oaPfuGeXliUASTTMyAqpE0QPUYGysBSTPnFkKREDNQIOBUkCRtLRgdD1A0bt3N69a1QVkAEkgG4KA2oAIqA7IBuoHyqL4B6INWTVQBKIIzsASbnBtEA3Exg/Q3RBEQpySkw6IRADSzvOQVltxNAAAAABJRU5ErkJggg==\" y=\"57.8047\"/><text fill=\"#000000\" font-family=\"sans-serif\" font-size=\"11\" font-weight=\"bold\" lengthAdjust=\"spacingAndGlyphs\" textLength=\"12\" x=\"62.5\" y=\"67.2104\">id</text><text fill=\"#000000\" font-family=\"sans-serif\" font-size=\"11\" lengthAdjust=\"spacingAndGlyphs\" textLength=\"0\" x=\"78.5\" y=\"67.2104\"/><text fill=\"#000000\" font-family=\"sans-serif\" font-size=\"11\" lengthAdjust=\"spacingAndGlyphs\" textLength=\"48\" x=\"86.5\" y=\"67.2104\">INTEGER</text><line style=\"stroke: #A80036; stroke-width: 1.0;\" x1=\"40.5\" x2=\"179.5\" y1=\"73.8047\" y2=\"73.8047\"/><text fill=\"#000000\" font-family=\"sans-serif\" font-size=\"11\" lengthAdjust=\"spacingAndGlyphs\" textLength=\"49\" x=\"45.5\" y=\"88.0151\">scenario</text><text fill=\"#000000\" font-family=\"sans-serif\" font-size=\"11\" lengthAdjust=\"spacingAndGlyphs\" textLength=\"51\" x=\"105.5\" y=\"88.0151\">VARCHAR</text><text fill=\"#000000\" font-family=\"sans-serif\" font-size=\"11\" lengthAdjust=\"spacingAndGlyphs\" textLength=\"36\" x=\"45.5\" y=\"100.8198\">constr</text><text fill=\"#000000\" font-family=\"sans-serif\" font-size=\"11\" lengthAdjust=\"spacingAndGlyphs\" textLength=\"51\" x=\"97.5\" y=\"100.8198\">VARCHAR</text><text fill=\"#000000\" font-family=\"sans-serif\" font-size=\"11\" lengthAdjust=\"spacingAndGlyphs\" textLength=\"16\" x=\"45.5\" y=\"113.6245\">val</text><text fill=\"#000000\" font-family=\"sans-serif\" font-size=\"11\" lengthAdjust=\"spacingAndGlyphs\" textLength=\"50\" x=\"73.5\" y=\"113.6245\">NUMERIC</text><!--class t2--><rect fill=\"#FEFECE\" filter=\"url(#f1sz4nd2duubf1)\" height=\"124.8281\" id=\"t2\" style=\"stroke: #A80036; stroke-width: 1.5;\" width=\"123\" x=\"215.5\" y=\"8\"/><ellipse cx=\"231.4\" cy=\"24\" fill=\"#FFAAAA\" rx=\"11\" ry=\"11\" style=\"stroke: #A80036; stroke-width: 1.0;\"/><path d=\"M232.2438,30.75 L229.7906,30.75 L229.7906,20.5 L226.65,20.5 L226.65,18.3594 L235.3844,18.3594 L235.3844,20.5 L232.2438,20.5 L232.2438,30.75 Z \"/><text fill=\"#000000\" font-family=\"sans-serif\" font-size=\"12\" lengthAdjust=\"spacingAndGlyphs\" textLength=\"89\" x=\"245.6\" y=\"28.1543\">abbb_demand</text><line style=\"stroke: #A80036; stroke-width: 1.5;\" x1=\"216.5\" x2=\"337.5\" y1=\"40\" y2=\"40\"/><image height=\"12\" width=\"17\" x=\"221.5\" xlink:href=\"data:image/png;base64,iVBORw0KGgoAAAANSUhEUgAAABEAAAAMCAIAAAALR8HoAAAAlElEQVR42mP49+8cqYgBmTNzZg0EEasHrvTdu4P4tTHANQCVIiO4ncgIoaejIw+oaPfuGeXliUASTTMyAqpE0QPUYGysBSTPnFkKREDNQIOBUkCRtLRgdD1A0bt3N69a1QVkAEkgG4KA2oAIqA7IBuoHyqL4B6INWTVQBKIIzsASbnBtEA3Exg/Q3RBEQpySkw6IRADSzvOQVltxNAAAAABJRU5ErkJggg==\" y=\"44.8047\"/><text fill=\"#000000\" font-family=\"sans-serif\" font-size=\"11\" font-weight=\"bold\" lengthAdjust=\"spacingAndGlyphs\" textLength=\"12\" x=\"238.5\" y=\"54.2104\">id</text><text fill=\"#000000\" font-family=\"sans-serif\" font-size=\"11\" lengthAdjust=\"spacingAndGlyphs\" textLength=\"0\" x=\"254.5\" y=\"54.2104\"/><text fill=\"#000000\" font-family=\"sans-serif\" font-size=\"11\" lengthAdjust=\"spacingAndGlyphs\" textLength=\"48\" x=\"262.5\" y=\"54.2104\">INTEGER</text><line style=\"stroke: #A80036; stroke-width: 1.0;\" x1=\"216.5\" x2=\"337.5\" y1=\"60.8047\" y2=\"60.8047\"/><text fill=\"#000000\" font-family=\"sans-serif\" font-size=\"11\" lengthAdjust=\"spacingAndGlyphs\" textLength=\"49\" x=\"221.5\" y=\"75.0151\">scenario</text><text fill=\"#000000\" font-family=\"sans-serif\" font-size=\"11\" lengthAdjust=\"spacingAndGlyphs\" textLength=\"51\" x=\"281.5\" y=\"75.0151\">VARCHAR</text><text fill=\"#000000\" font-family=\"sans-serif\" font-size=\"11\" lengthAdjust=\"spacingAndGlyphs\" textLength=\"36\" x=\"221.5\" y=\"87.8198\">region</text><text fill=\"#000000\" font-family=\"sans-serif\" font-size=\"11\" lengthAdjust=\"spacingAndGlyphs\" textLength=\"51\" x=\"273.5\" y=\"87.8198\">VARCHAR</text><text fill=\"#000000\" font-family=\"sans-serif\" font-size=\"11\" lengthAdjust=\"spacingAndGlyphs\" textLength=\"36\" x=\"221.5\" y=\"100.6245\">sector</text><text fill=\"#000000\" font-family=\"sans-serif\" font-size=\"11\" lengthAdjust=\"spacingAndGlyphs\" textLength=\"51\" x=\"273.5\" y=\"100.6245\">VARCHAR</text><text fill=\"#000000\" font-family=\"sans-serif\" font-size=\"11\" lengthAdjust=\"spacingAndGlyphs\" textLength=\"24\" x=\"221.5\" y=\"113.4292\">type</text><text fill=\"#000000\" font-family=\"sans-serif\" font-size=\"11\" lengthAdjust=\"spacingAndGlyphs\" textLength=\"51\" x=\"257.5\" y=\"113.4292\">VARCHAR</text><text fill=\"#000000\" font-family=\"sans-serif\" font-size=\"11\" lengthAdjust=\"spacingAndGlyphs\" textLength=\"46\" x=\"221.5\" y=\"126.2339\">demand</text><text fill=\"#000000\" font-family=\"sans-serif\" font-size=\"11\" lengthAdjust=\"spacingAndGlyphs\" textLength=\"50\" x=\"281.5\" y=\"126.2339\">NUMERIC</text><!--class t3--><rect fill=\"#FEFECE\" filter=\"url(#f1sz4nd2duubf1)\" height=\"99.2188\" id=\"t3\" style=\"stroke: #A80036; stroke-width: 1.5;\" width=\"123\" x=\"373.5\" y=\"21\"/><ellipse cx=\"396.6\" cy=\"37\" fill=\"#FFAAAA\" rx=\"11\" ry=\"11\" style=\"stroke: #A80036; stroke-width: 1.0;\"/><path d=\"M397.4438,43.75 L394.9906,43.75 L394.9906,33.5 L391.85,33.5 L391.85,31.3594 L400.5844,31.3594 L400.5844,33.5 L397.4438,33.5 L397.4438,43.75 Z \"/><text fill=\"#000000\" font-family=\"sans-serif\" font-size=\"12\" lengthAdjust=\"spacingAndGlyphs\" textLength=\"73\" x=\"412.4\" y=\"41.1543\">abbb_emob</text><line style=\"stroke: #A80036; stroke-width: 1.5;\" x1=\"374.5\" x2=\"495.5\" y1=\"53\" y2=\"53\"/><image height=\"12\" width=\"17\" x=\"379.5\" xlink:href=\"data:image/png;base64,iVBORw0KGgoAAAANSUhEUgAAABEAAAAMCAIAAAALR8HoAAAAlElEQVR42mP49+8cqYgBmTNzZg0EEasHrvTdu4P4tTHANQCVIiO4ncgIoaejIw+oaPfuGeXliUASTTMyAqpE0QPUYGysBSTPnFkKREDNQIOBUkCRtLRgdD1A0bt3N69a1QVkAEkgG4KA2oAIqA7IBuoHyqL4B6INWTVQBKIIzsASbnBtEA3Exg/Q3RBEQpySkw6IRADSzvOQVltxNAAAAABJRU5ErkJggg==\" y=\"57.8047\"/><text fill=\"#000000\" font-family=\"sans-serif\" font-size=\"11\" font-weight=\"bold\" lengthAdjust=\"spacingAndGlyphs\" textLength=\"12\" x=\"396.5\" y=\"67.2104\">id</text><text fill=\"#000000\" font-family=\"sans-serif\" font-size=\"11\" lengthAdjust=\"spacingAndGlyphs\" textLength=\"0\" x=\"412.5\" y=\"67.2104\"/><text fill=\"#000000\" font-family=\"sans-serif\" font-size=\"11\" lengthAdjust=\"spacingAndGlyphs\" textLength=\"48\" x=\"420.5\" y=\"67.2104\">INTEGER</text><line style=\"stroke: #A80036; stroke-width: 1.0;\" x1=\"374.5\" x2=\"495.5\" y1=\"73.8047\" y2=\"73.8047\"/><text fill=\"#000000\" font-family=\"sans-serif\" font-size=\"11\" lengthAdjust=\"spacingAndGlyphs\" textLength=\"49\" x=\"379.5\" y=\"88.0151\">scenario</text><text fill=\"#000000\" font-family=\"sans-serif\" font-size=\"11\" lengthAdjust=\"spacingAndGlyphs\" textLength=\"51\" x=\"439.5\" y=\"88.0151\">VARCHAR</text><text fill=\"#000000\" font-family=\"sans-serif\" font-size=\"11\" lengthAdjust=\"spacingAndGlyphs\" textLength=\"36\" x=\"379.5\" y=\"100.8198\">region</text><text fill=\"#000000\" font-family=\"sans-serif\" font-size=\"11\" lengthAdjust=\"spacingAndGlyphs\" textLength=\"51\" x=\"431.5\" y=\"100.8198\">VARCHAR</text><text fill=\"#000000\" font-family=\"sans-serif\" font-size=\"11\" lengthAdjust=\"spacingAndGlyphs\" textLength=\"39\" x=\"379.5\" y=\"113.6245\">energy</text><text fill=\"#000000\" font-family=\"sans-serif\" font-size=\"11\" lengthAdjust=\"spacingAndGlyphs\" textLength=\"50\" x=\"431.5\" y=\"113.6245\">NUMERIC</text><!--class t4--><rect fill=\"#FEFECE\" filter=\"url(#f1sz4nd2duubf1)\" height=\"112.0234\" id=\"t4\" style=\"stroke: #A80036; stroke-width: 1.5;\" width=\"117\" x=\"51.5\" y=\"295.5\"/><ellipse cx=\"66.5\" cy=\"311.5\" fill=\"#FFAAAA\" rx=\"11\" ry=\"11\" style=\"stroke: #A80036; stroke-width: 1.0;\"/><path d=\"M67.3438,318.25 L64.8906,318.25 L64.8906,308 L61.75,308 L61.75,305.8594 L70.4844,305.8594 L70.4844,308 L67.3438,308 L67.3438,318.25 Z \"/><text fill=\"#000000\" font-family=\"sans-serif\" font-size=\"12\" lengthAdjust=\"spacingAndGlyphs\" textLength=\"85\" x=\"80.5\" y=\"315.6543\">abbb_regions</text><line style=\"stroke: #A80036; stroke-width: 1.5;\" x1=\"52.5\" x2=\"167.5\" y1=\"327.5\" y2=\"327.5\"/><image height=\"12\" width=\"17\" x=\"57.5\" xlink:href=\"data:image/png;base64,iVBORw0KGgoAAAANSUhEUgAAABEAAAAMCAIAAAALR8HoAAAAlElEQVR42mP49+8cqYgBmTNzZg0EEasHrvTdu4P4tTHANQCVIiO4ncgIoaejIw+oaPfuGeXliUASTTMyAqpE0QPUYGysBSTPnFkKREDNQIOBUkCRtLRgdD1A0bt3N69a1QVkAEkgG4KA2oAIqA7IBuoHyqL4B6INWTVQBKIIzsASbnBtEA3Exg/Q3RBEQpySkw6IRADSzvOQVltxNAAAAABJRU5ErkJggg==\" y=\"332.3047\"/><text fill=\"#000000\" font-family=\"sans-serif\" font-size=\"11\" font-weight=\"bold\" lengthAdjust=\"spacingAndGlyphs\" textLength=\"12\" x=\"74.5\" y=\"341.7104\">id</text><text fill=\"#000000\" font-family=\"sans-serif\" font-size=\"11\" lengthAdjust=\"spacingAndGlyphs\" textLength=\"0\" x=\"90.5\" y=\"341.7104\"/><text fill=\"#000000\" font-family=\"sans-serif\" font-size=\"11\" lengthAdjust=\"spacingAndGlyphs\" textLength=\"48\" x=\"98.5\" y=\"341.7104\">INTEGER</text><line style=\"stroke: #A80036; stroke-width: 1.0;\" x1=\"52.5\" x2=\"167.5\" y1=\"348.3047\" y2=\"348.3047\"/><text fill=\"#000000\" font-family=\"sans-serif\" font-size=\"11\" lengthAdjust=\"spacingAndGlyphs\" textLength=\"36\" x=\"57.5\" y=\"362.5151\">region</text><text fill=\"#000000\" font-family=\"sans-serif\" font-size=\"11\" lengthAdjust=\"spacingAndGlyphs\" textLength=\"51\" x=\"109.5\" y=\"362.5151\">VARCHAR</text><text fill=\"#000000\" font-family=\"sans-serif\" font-size=\"11\" lengthAdjust=\"spacingAndGlyphs\" textLength=\"19\" x=\"57.5\" y=\"375.3198\">reg</text><text fill=\"#000000\" font-family=\"sans-serif\" font-size=\"11\" lengthAdjust=\"spacingAndGlyphs\" textLength=\"51\" x=\"85.5\" y=\"375.3198\">VARCHAR</text><text fill=\"#000000\" font-family=\"sans-serif\" font-size=\"11\" lengthAdjust=\"spacingAndGlyphs\" textLength=\"35\" x=\"57.5\" y=\"388.1245\">nutsid</text><text fill=\"#000000\" font-family=\"sans-serif\" font-size=\"11\" lengthAdjust=\"spacingAndGlyphs\" textLength=\"51\" x=\"101.5\" y=\"388.1245\">VARCHAR</text><text fill=\"#000000\" font-family=\"sans-serif\" font-size=\"11\" lengthAdjust=\"spacingAndGlyphs\" textLength=\"98\" x=\"57.5\" y=\"400.9292\">geom GEOMETRY</text><!--class t5--><rect fill=\"#FEFECE\" filter=\"url(#f1sz4nd2duubf1)\" height=\"316.8984\" id=\"t5\" style=\"stroke: #A80036; stroke-width: 1.5;\" width=\"206\" x=\"204\" y=\"193\"/><ellipse cx=\"219\" cy=\"209\" fill=\"#FFAAAA\" rx=\"11\" ry=\"11\" style=\"stroke: #A80036; stroke-width: 1.0;\"/><path d=\"M219.8438,215.75 L217.3906,215.75 L217.3906,205.5 L214.25,205.5 L214.25,203.3594 L222.9844,203.3594 L222.9844,205.5 L219.8438,205.5 L219.8438,215.75 Z \"/><text fill=\"#000000\" font-family=\"sans-serif\" font-size=\"12\" lengthAdjust=\"spacingAndGlyphs\" textLength=\"174\" x=\"233\" y=\"213.1543\">abbb_simulation_parameter</text><line style=\"stroke: #A80036; stroke-width: 1.5;\" x1=\"205\" x2=\"409\" y1=\"225\" y2=\"225\"/><image height=\"12\" width=\"17\" x=\"210\" xlink:href=\"data:image/png;base64,iVBORw0KGgoAAAANSUhEUgAAABEAAAAMCAIAAAALR8HoAAAAlElEQVR42mP49+8cqYgBmTNzZg0EEasHrvTdu4P4tTHANQCVIiO4ncgIoaejIw+oaPfuGeXliUASTTMyAqpE0QPUYGysBSTPnFkKREDNQIOBUkCRtLRgdD1A0bt3N69a1QVkAEkgG4KA2oAIqA7IBuoHyqL4B6INWTVQBKIIzsASbnBtEA3Exg/Q3RBEQpySkw6IRADSzvOQVltxNAAAAABJRU5ErkJggg==\" y=\"229.8047\"/><text fill=\"#000000\" font-family=\"sans-serif\" font-size=\"11\" font-weight=\"bold\" lengthAdjust=\"spacingAndGlyphs\" textLength=\"12\" x=\"227\" y=\"239.2104\">id</text><text fill=\"#000000\" font-family=\"sans-serif\" font-size=\"11\" lengthAdjust=\"spacingAndGlyphs\" textLength=\"0\" x=\"243\" y=\"239.2104\"/><text fill=\"#000000\" font-family=\"sans-serif\" font-size=\"11\" lengthAdjust=\"spacingAndGlyphs\" textLength=\"48\" x=\"251\" y=\"239.2104\">INTEGER</text><line style=\"stroke: #A80036; stroke-width: 1.0;\" x1=\"205\" x2=\"409\" y1=\"245.8047\" y2=\"245.8047\"/><text fill=\"#000000\" font-family=\"sans-serif\" font-size=\"11\" lengthAdjust=\"spacingAndGlyphs\" textLength=\"61\" x=\"210\" y=\"260.0151\">technology</text><text fill=\"#000000\" font-family=\"sans-serif\" font-size=\"11\" lengthAdjust=\"spacingAndGlyphs\" textLength=\"51\" x=\"286\" y=\"260.0151\">VARCHAR</text><text fill=\"#000000\" font-family=\"sans-serif\" font-size=\"11\" lengthAdjust=\"spacingAndGlyphs\" textLength=\"44\" x=\"210\" y=\"272.8198\">co2_var</text><text fill=\"#000000\" font-family=\"sans-serif\" font-size=\"11\" lengthAdjust=\"spacingAndGlyphs\" textLength=\"50\" x=\"270\" y=\"272.8198\">NUMERIC</text><text fill=\"#000000\" font-family=\"sans-serif\" font-size=\"11\" lengthAdjust=\"spacingAndGlyphs\" textLength=\"39\" x=\"210\" y=\"285.6245\">co2_fix</text><text fill=\"#000000\" font-family=\"sans-serif\" font-size=\"11\" lengthAdjust=\"spacingAndGlyphs\" textLength=\"50\" x=\"262\" y=\"285.6245\">NUMERIC</text><text fill=\"#000000\" font-family=\"sans-serif\" font-size=\"11\" lengthAdjust=\"spacingAndGlyphs\" textLength=\"47\" x=\"210\" y=\"298.4292\">eta_elec</text><text fill=\"#000000\" font-family=\"sans-serif\" font-size=\"11\" lengthAdjust=\"spacingAndGlyphs\" textLength=\"50\" x=\"270\" y=\"298.4292\">NUMERIC</text><text fill=\"#000000\" font-family=\"sans-serif\" font-size=\"11\" lengthAdjust=\"spacingAndGlyphs\" textLength=\"35\" x=\"210\" y=\"311.2339\">eta_th</text><text fill=\"#000000\" font-family=\"sans-serif\" font-size=\"11\" lengthAdjust=\"spacingAndGlyphs\" textLength=\"50\" x=\"254\" y=\"311.2339\">NUMERIC</text><text fill=\"#000000\" font-family=\"sans-serif\" font-size=\"11\" lengthAdjust=\"spacingAndGlyphs\" textLength=\"60\" x=\"210\" y=\"324.0386\">eta_el_chp</text><text fill=\"#000000\" font-family=\"sans-serif\" font-size=\"11\" lengthAdjust=\"spacingAndGlyphs\" textLength=\"50\" x=\"286\" y=\"324.0386\">NUMERIC</text><text fill=\"#000000\" font-family=\"sans-serif\" font-size=\"11\" lengthAdjust=\"spacingAndGlyphs\" textLength=\"61\" x=\"210\" y=\"336.8433\">eta_th_chp</text><text fill=\"#000000\" font-family=\"sans-serif\" font-size=\"11\" lengthAdjust=\"spacingAndGlyphs\" textLength=\"50\" x=\"286\" y=\"336.8433\">NUMERIC</text><text fill=\"#000000\" font-family=\"sans-serif\" font-size=\"11\" lengthAdjust=\"spacingAndGlyphs\" textLength=\"86\" x=\"210\" y=\"349.6479\">eta_chp_flex_el</text><text fill=\"#000000\" font-family=\"sans-serif\" font-size=\"11\" lengthAdjust=\"spacingAndGlyphs\" textLength=\"50\" x=\"310\" y=\"349.6479\">NUMERIC</text><text fill=\"#000000\" font-family=\"sans-serif\" font-size=\"11\" lengthAdjust=\"spacingAndGlyphs\" textLength=\"61\" x=\"210\" y=\"362.4526\">sigma_chp</text><text fill=\"#000000\" font-family=\"sans-serif\" font-size=\"11\" lengthAdjust=\"spacingAndGlyphs\" textLength=\"50\" x=\"286\" y=\"362.4526\">NUMERIC</text><text fill=\"#000000\" font-family=\"sans-serif\" font-size=\"11\" lengthAdjust=\"spacingAndGlyphs\" textLength=\"51\" x=\"210\" y=\"375.2573\">beta_chp</text><text fill=\"#000000\" font-family=\"sans-serif\" font-size=\"11\" lengthAdjust=\"spacingAndGlyphs\" textLength=\"50\" x=\"270\" y=\"375.2573\">NUMERIC</text><text fill=\"#000000\" font-family=\"sans-serif\" font-size=\"11\" lengthAdjust=\"spacingAndGlyphs\" textLength=\"51\" x=\"210\" y=\"388.062\">opex_var</text><text fill=\"#000000\" font-family=\"sans-serif\" font-size=\"11\" lengthAdjust=\"spacingAndGlyphs\" textLength=\"50\" x=\"270\" y=\"388.062\">NUMERIC</text><text fill=\"#000000\" font-family=\"sans-serif\" font-size=\"11\" lengthAdjust=\"spacingAndGlyphs\" textLength=\"46\" x=\"210\" y=\"400.8667\">opex_fix</text><text fill=\"#000000\" font-family=\"sans-serif\" font-size=\"11\" lengthAdjust=\"spacingAndGlyphs\" textLength=\"50\" x=\"270\" y=\"400.8667\">NUMERIC</text><text fill=\"#000000\" font-family=\"sans-serif\" font-size=\"11\" lengthAdjust=\"spacingAndGlyphs\" textLength=\"33\" x=\"210\" y=\"413.6714\">capex</text><text fill=\"#000000\" font-family=\"sans-serif\" font-size=\"11\" lengthAdjust=\"spacingAndGlyphs\" textLength=\"50\" x=\"254\" y=\"413.6714\">NUMERIC</text><text fill=\"#000000\" font-family=\"sans-serif\" font-size=\"11\" lengthAdjust=\"spacingAndGlyphs\" textLength=\"51\" x=\"210\" y=\"426.4761\">c_rate_in</text><text fill=\"#000000\" font-family=\"sans-serif\" font-size=\"11\" lengthAdjust=\"spacingAndGlyphs\" textLength=\"50\" x=\"270\" y=\"426.4761\">NUMERIC</text><text fill=\"#000000\" font-family=\"sans-serif\" font-size=\"11\" lengthAdjust=\"spacingAndGlyphs\" textLength=\"59\" x=\"210\" y=\"439.2808\">c_rate_out</text><text fill=\"#000000\" font-family=\"sans-serif\" font-size=\"11\" lengthAdjust=\"spacingAndGlyphs\" textLength=\"50\" x=\"278\" y=\"439.2808\">NUMERIC</text><text fill=\"#000000\" font-family=\"sans-serif\" font-size=\"11\" lengthAdjust=\"spacingAndGlyphs\" textLength=\"34\" x=\"210\" y=\"452.0854\">eta_in</text><text fill=\"#000000\" font-family=\"sans-serif\" font-size=\"11\" lengthAdjust=\"spacingAndGlyphs\" textLength=\"50\" x=\"254\" y=\"452.0854\">NUMERIC</text><text fill=\"#000000\" font-family=\"sans-serif\" font-size=\"11\" lengthAdjust=\"spacingAndGlyphs\" textLength=\"42\" x=\"210\" y=\"464.8901\">eta_out</text><text fill=\"#000000\" font-family=\"sans-serif\" font-size=\"11\" lengthAdjust=\"spacingAndGlyphs\" textLength=\"50\" x=\"262\" y=\"464.8901\">NUMERIC</text><text fill=\"#000000\" font-family=\"sans-serif\" font-size=\"11\" lengthAdjust=\"spacingAndGlyphs\" textLength=\"50\" x=\"210\" y=\"477.6948\">cap_loss</text><text fill=\"#000000\" font-family=\"sans-serif\" font-size=\"11\" lengthAdjust=\"spacingAndGlyphs\" textLength=\"50\" x=\"270\" y=\"477.6948\">NUMERIC</text><text fill=\"#000000\" font-family=\"sans-serif\" font-size=\"11\" lengthAdjust=\"spacingAndGlyphs\" textLength=\"42\" x=\"210\" y=\"490.4995\">lifetime</text><text fill=\"#000000\" font-family=\"sans-serif\" font-size=\"11\" lengthAdjust=\"spacingAndGlyphs\" textLength=\"48\" x=\"262\" y=\"490.4995\">INTEGER</text><text fill=\"#000000\" font-family=\"sans-serif\" font-size=\"11\" lengthAdjust=\"spacingAndGlyphs\" textLength=\"28\" x=\"210\" y=\"503.3042\">wacc</text><text fill=\"#000000\" font-family=\"sans-serif\" font-size=\"11\" lengthAdjust=\"spacingAndGlyphs\" textLength=\"50\" x=\"254\" y=\"503.3042\">NUMERIC</text><!--class t6--><rect fill=\"#FEFECE\" filter=\"url(#f1sz4nd2duubf1)\" height=\"124.8281\" id=\"t6\" style=\"stroke: #A80036; stroke-width: 1.5;\" width=\"147\" x=\"445.5\" y=\"289\"/><ellipse cx=\"461.85\" cy=\"305\" fill=\"#FFAAAA\" rx=\"11\" ry=\"11\" style=\"stroke: #A80036; stroke-width: 1.0;\"/><path d=\"M462.6938,311.75 L460.2406,311.75 L460.2406,301.5 L457.1,301.5 L457.1,299.3594 L465.8344,299.3594 L465.8344,301.5 L462.6938,301.5 L462.6938,311.75 Z \"/><text fill=\"#000000\" font-family=\"sans-serif\" font-size=\"12\" lengthAdjust=\"spacingAndGlyphs\" textLength=\"112\" x=\"476.15\" y=\"309.1543\">abbb_transformer</text><line style=\"stroke: #A80036; stroke-width: 1.5;\" x1=\"446.5\" x2=\"591.5\" y1=\"321\" y2=\"321\"/><image height=\"12\" width=\"17\" x=\"451.5\" xlink:href=\"data:image/png;base64,iVBORw0KGgoAAAANSUhEUgAAABEAAAAMCAIAAAALR8HoAAAAlElEQVR42mP49+8cqYgBmTNzZg0EEasHrvTdu4P4tTHANQCVIiO4ncgIoaejIw+oaPfuGeXliUASTTMyAqpE0QPUYGysBSTPnFkKREDNQIOBUkCRtLRgdD1A0bt3N69a1QVkAEkgG4KA2oAIqA7IBuoHyqL4B6INWTVQBKIIzsASbnBtEA3Exg/Q3RBEQpySkw6IRADSzvOQVltxNAAAAABJRU5ErkJggg==\" y=\"325.8047\"/><text fill=\"#000000\" font-family=\"sans-serif\" font-size=\"11\" font-weight=\"bold\" lengthAdjust=\"spacingAndGlyphs\" textLength=\"12\" x=\"468.5\" y=\"335.2104\">id</text><text fill=\"#000000\" font-family=\"sans-serif\" font-size=\"11\" lengthAdjust=\"spacingAndGlyphs\" textLength=\"0\" x=\"484.5\" y=\"335.2104\"/><text fill=\"#000000\" font-family=\"sans-serif\" font-size=\"11\" lengthAdjust=\"spacingAndGlyphs\" textLength=\"48\" x=\"492.5\" y=\"335.2104\">INTEGER</text><line style=\"stroke: #A80036; stroke-width: 1.0;\" x1=\"446.5\" x2=\"591.5\" y1=\"341.8047\" y2=\"341.8047\"/><text fill=\"#000000\" font-family=\"sans-serif\" font-size=\"11\" lengthAdjust=\"spacingAndGlyphs\" textLength=\"49\" x=\"451.5\" y=\"356.0151\">scenario</text><text fill=\"#000000\" font-family=\"sans-serif\" font-size=\"11\" lengthAdjust=\"spacingAndGlyphs\" textLength=\"51\" x=\"511.5\" y=\"356.0151\">VARCHAR</text><text fill=\"#000000\" font-family=\"sans-serif\" font-size=\"11\" lengthAdjust=\"spacingAndGlyphs\" textLength=\"36\" x=\"451.5\" y=\"368.8198\">region</text><text fill=\"#000000\" font-family=\"sans-serif\" font-size=\"11\" lengthAdjust=\"spacingAndGlyphs\" textLength=\"51\" x=\"503.5\" y=\"368.8198\">VARCHAR</text><text fill=\"#000000\" font-family=\"sans-serif\" font-size=\"11\" lengthAdjust=\"spacingAndGlyphs\" textLength=\"58\" x=\"451.5\" y=\"381.6245\">ressource</text><text fill=\"#000000\" font-family=\"sans-serif\" font-size=\"11\" lengthAdjust=\"spacingAndGlyphs\" textLength=\"51\" x=\"519.5\" y=\"381.6245\">VARCHAR</text><text fill=\"#000000\" font-family=\"sans-serif\" font-size=\"11\" lengthAdjust=\"spacingAndGlyphs\" textLength=\"69\" x=\"451.5\" y=\"394.4292\">transformer</text><text fill=\"#000000\" font-family=\"sans-serif\" font-size=\"11\" lengthAdjust=\"spacingAndGlyphs\" textLength=\"51\" x=\"535.5\" y=\"394.4292\">VARCHAR</text><text fill=\"#000000\" font-family=\"sans-serif\" font-size=\"11\" lengthAdjust=\"spacingAndGlyphs\" textLength=\"35\" x=\"451.5\" y=\"407.2339\">power</text><text fill=\"#000000\" font-family=\"sans-serif\" font-size=\"11\" lengthAdjust=\"spacingAndGlyphs\" textLength=\"50\" x=\"495.5\" y=\"407.2339\">NUMERIC</text><!--class t7--><rect fill=\"#FEFECE\" filter=\"url(#f1sz4nd2duubf1)\" height=\"112.0234\" id=\"t7\" style=\"stroke: #A80036; stroke-width: 1.5;\" width=\"208\" x=\"6\" y=\"570\"/><ellipse cx=\"21\" cy=\"586\" fill=\"#FFAAAA\" rx=\"11\" ry=\"11\" style=\"stroke: #A80036; stroke-width: 1.0;\"/><path d=\"M21.8438,592.75 L19.3906,592.75 L19.3906,582.5 L16.25,582.5 L16.25,580.3594 L24.9844,580.3594 L24.9844,582.5 L21.8438,582.5 L21.8438,592.75 Z \"/><text fill=\"#000000\" font-family=\"sans-serif\" font-size=\"12\" lengthAdjust=\"spacingAndGlyphs\" textLength=\"176\" x=\"35\" y=\"590.1543\">abbb_transmission_capacity</text><line style=\"stroke: #A80036; stroke-width: 1.5;\" x1=\"7\" x2=\"213\" y1=\"602\" y2=\"602\"/><image height=\"12\" width=\"17\" x=\"12\" xlink:href=\"data:image/png;base64,iVBORw0KGgoAAAANSUhEUgAAABEAAAAMCAIAAAALR8HoAAAAlElEQVR42mP49+8cqYgBmTNzZg0EEasHrvTdu4P4tTHANQCVIiO4ncgIoaejIw+oaPfuGeXliUASTTMyAqpE0QPUYGysBSTPnFkKREDNQIOBUkCRtLRgdD1A0bt3N69a1QVkAEkgG4KA2oAIqA7IBuoHyqL4B6INWTVQBKIIzsASbnBtEA3Exg/Q3RBEQpySkw6IRADSzvOQVltxNAAAAABJRU5ErkJggg==\" y=\"606.8047\"/><text fill=\"#000000\" font-family=\"sans-serif\" font-size=\"11\" font-weight=\"bold\" lengthAdjust=\"spacingAndGlyphs\" textLength=\"12\" x=\"29\" y=\"616.2104\">id</text><text fill=\"#000000\" font-family=\"sans-serif\" font-size=\"11\" lengthAdjust=\"spacingAndGlyphs\" textLength=\"0\" x=\"45\" y=\"616.2104\"/><text fill=\"#000000\" font-family=\"sans-serif\" font-size=\"11\" lengthAdjust=\"spacingAndGlyphs\" textLength=\"48\" x=\"53\" y=\"616.2104\">INTEGER</text><line style=\"stroke: #A80036; stroke-width: 1.0;\" x1=\"7\" x2=\"213\" y1=\"622.8047\" y2=\"622.8047\"/><text fill=\"#000000\" font-family=\"sans-serif\" font-size=\"11\" lengthAdjust=\"spacingAndGlyphs\" textLength=\"49\" x=\"12\" y=\"637.0151\">scenario</text><text fill=\"#000000\" font-family=\"sans-serif\" font-size=\"11\" lengthAdjust=\"spacingAndGlyphs\" textLength=\"51\" x=\"72\" y=\"637.0151\">VARCHAR</text><text fill=\"#000000\" font-family=\"sans-serif\" font-size=\"11\" lengthAdjust=\"spacingAndGlyphs\" textLength=\"69\" x=\"12\" y=\"649.8198\">from_region</text><text fill=\"#000000\" font-family=\"sans-serif\" font-size=\"11\" lengthAdjust=\"spacingAndGlyphs\" textLength=\"51\" x=\"96\" y=\"649.8198\">VARCHAR</text><text fill=\"#000000\" font-family=\"sans-serif\" font-size=\"11\" lengthAdjust=\"spacingAndGlyphs\" textLength=\"53\" x=\"12\" y=\"662.6245\">to_region</text><text fill=\"#000000\" font-family=\"sans-serif\" font-size=\"11\" lengthAdjust=\"spacingAndGlyphs\" textLength=\"51\" x=\"80\" y=\"662.6245\">VARCHAR</text><text fill=\"#000000\" font-family=\"sans-serif\" font-size=\"11\" lengthAdjust=\"spacingAndGlyphs\" textLength=\"46\" x=\"12\" y=\"675.4292\">capacity</text><text fill=\"#000000\" font-family=\"sans-serif\" font-size=\"11\" lengthAdjust=\"spacingAndGlyphs\" textLength=\"50\" x=\"72\" y=\"675.4292\">NUMERIC</text><!--link t1 to t2--><!--link t2 to t3--><!--link t1 to t4--><!--link t4 to t5--><!--link t5 to t6--><!--link t4 to t7--><!--\n",
       "@startuml\n",
       "skinparam tabSize 2\n",
       "sprite $key [17x12/16z] bOqv3e1030CJRzPn9Fx_NWY7n4eqJ3TJs6OVa5pTpD-5tl3YyFHG-4DsqAOnWgawWp0r0KGagDuGMYMJxbMrBxzLPJ_O0G00\n",
       "hide methods\n",
       "hide stereotypes\n",
       "                                                  \n",
       "class t1 as \"abbb_constraints\" << (T,#FFAAAA) >> {\n",
       "    <$key><b>id</b> \\t INTEGER\n",
       "    - -\n",
       "    scenario \\t VARCHAR\n",
       "    constr \\t VARCHAR\n",
       "    val \\t NUMERIC\n",
       "}\n",
       "\n",
       "\n",
       "class t2 as \"abbb_demand\" << (T,#FFAAAA) >> {\n",
       "    <$key><b>id</b> \\t INTEGER\n",
       "    - -\n",
       "    scenario \\t VARCHAR\n",
       "    region \\t VARCHAR\n",
       "    sector \\t VARCHAR\n",
       "    type \\t VARCHAR\n",
       "    demand \\t NUMERIC\n",
       "}\n",
       "\n",
       "\n",
       "class t3 as \"abbb_emob\" << (T,#FFAAAA) >> {\n",
       "    <$key><b>id</b> \\t INTEGER\n",
       "    - -\n",
       "    scenario \\t VARCHAR\n",
       "    region \\t VARCHAR\n",
       "    energy \\t NUMERIC\n",
       "}\n",
       "\n",
       "\n",
       "class t4 as \"abbb_regions\" << (T,#FFAAAA) >> {\n",
       "    <$key><b>id</b> \\t INTEGER\n",
       "    - -\n",
       "    region \\t VARCHAR\n",
       "    reg \\t VARCHAR\n",
       "    nutsid \\t VARCHAR\n",
       "    geom GEOMETRY\n",
       "}\n",
       "\n",
       "\n",
       "class t5 as \"abbb_simulation_parameter\" << (T,#FFAAAA) >> {\n",
       "    <$key><b>id</b> \\t INTEGER\n",
       "    - -\n",
       "    technology \\t VARCHAR\n",
       "    co2_var \\t NUMERIC\n",
       "    co2_fix \\t NUMERIC\n",
       "    eta_elec \\t NUMERIC\n",
       "    eta_th \\t NUMERIC\n",
       "    eta_el_chp \\t NUMERIC\n",
       "    eta_th_chp \\t NUMERIC\n",
       "    eta_chp_flex_el \\t NUMERIC\n",
       "    sigma_chp \\t NUMERIC\n",
       "    beta_chp \\t NUMERIC\n",
       "    opex_var \\t NUMERIC\n",
       "    opex_fix \\t NUMERIC\n",
       "    capex \\t NUMERIC\n",
       "    c_rate_in \\t NUMERIC\n",
       "    c_rate_out \\t NUMERIC\n",
       "    eta_in \\t NUMERIC\n",
       "    eta_out \\t NUMERIC\n",
       "    cap_loss \\t NUMERIC\n",
       "    lifetime \\t INTEGER\n",
       "    wacc \\t NUMERIC\n",
       "}\n",
       "\n",
       "\n",
       "class t6 as \"abbb_transformer\" << (T,#FFAAAA) >> {\n",
       "    <$key><b>id</b> \\t INTEGER\n",
       "    - -\n",
       "    scenario \\t VARCHAR\n",
       "    region \\t VARCHAR\n",
       "    ressource \\t VARCHAR\n",
       "    transformer \\t VARCHAR\n",
       "    power \\t NUMERIC\n",
       "}\n",
       "\n",
       "\n",
       "class t7 as \"abbb_transmission_capacity\" << (T,#FFAAAA) >> {\n",
       "    <$key><b>id</b> \\t INTEGER\n",
       "    - -\n",
       "    scenario \\t VARCHAR\n",
       "    from_region \\t VARCHAR\n",
       "    to_region \\t VARCHAR\n",
       "    capacity \\t NUMERIC\n",
       "}\n",
       "\n",
       "                                        \n",
       "@enduml\n",
       "\n",
       "PlantUML version 1.2018.11(Sat Sep 22 16:43:53 UTC 2018)\n",
       "(GPL source distribution)\n",
       "Java Runtime: OpenJDK Runtime Environment\n",
       "JVM: OpenJDK 64-Bit Server VM\n",
       "Java Version: 1.7.0_181-b01\n",
       "Operating System: Linux\n",
       "OS Version: 4.15.0-42-generic\n",
       "Default Encoding: UTF-8\n",
       "Language: en\n",
       "Country: null\n",
       "--></g></svg>"
      ],
      "text/plain": [
       "<IPython.core.display.SVG object>"
      ]
     },
     "execution_count": 24,
     "metadata": {},
     "output_type": "execute_result"
    }
   ],
   "source": [
    "%%plantuml --jar\n",
    "\n",
    "@startuml\n",
    "'ERM definitions:\n",
    "skinparam tabSize 2\n",
    "sprite $key [17x12/16z] bOqv3e1030CJRzPn9Fx_NWY7n4eqJ3TJs6OVa5pTpD-5tl3YyFHG-4DsqAOnWgawWp0r0KGagDuGMYMJxbMrBxzLPJ_O0G00\n",
    "!define Table(name,desc) class name as \"desc\" << (T,#FFAAAA) >>\n",
    "!define primary_key(x) <$key><b>x</b>\n",
    "!define foreign_key(x) <$key>x\n",
    "!define unique <b>U</b>\n",
    "!define not_null <b>N</b> \n",
    "hide methods\n",
    "hide stereotypes\n",
    "                                                  \n",
    "Table(t1, \"abbb_constraints\") {\n",
    "    primary_key(id) \\t INTEGER\n",
    "    --\n",
    "    scenario \\t VARCHAR\n",
    "    constr \\t VARCHAR\n",
    "    val \\t NUMERIC\n",
    "}\n",
    "\n",
    "\n",
    "Table(t2, \"abbb_demand\") {\n",
    "    primary_key(id) \\t INTEGER\n",
    "    --\n",
    "    scenario \\t VARCHAR\n",
    "    region \\t VARCHAR\n",
    "    sector \\t VARCHAR\n",
    "    type \\t VARCHAR\n",
    "    demand \\t NUMERIC\n",
    "}\n",
    "\n",
    "\n",
    "Table(t3, \"abbb_emob\") {\n",
    "    primary_key(id) \\t INTEGER\n",
    "    --\n",
    "    scenario \\t VARCHAR\n",
    "    region \\t VARCHAR\n",
    "    energy \\t NUMERIC\n",
    "}\n",
    "\n",
    "\n",
    "Table(t4, \"abbb_regions\") {\n",
    "    primary_key(id) \\t INTEGER\n",
    "    --\n",
    "    region \\t VARCHAR\n",
    "    reg \\t VARCHAR\n",
    "    nutsid \\t VARCHAR\n",
    "    geom GEOMETRY\n",
    "}\n",
    "\n",
    "\n",
    "Table(t5, \"abbb_simulation_parameter\") {\n",
    "    primary_key(id) \\t INTEGER\n",
    "    --\n",
    "    technology \\t VARCHAR\n",
    "    co2_var \\t NUMERIC\n",
    "    co2_fix \\t NUMERIC\n",
    "    eta_elec \\t NUMERIC\n",
    "    eta_th \\t NUMERIC\n",
    "    eta_el_chp \\t NUMERIC\n",
    "    eta_th_chp \\t NUMERIC\n",
    "    eta_chp_flex_el \\t NUMERIC\n",
    "    sigma_chp \\t NUMERIC\n",
    "    beta_chp \\t NUMERIC\n",
    "    opex_var \\t NUMERIC\n",
    "    opex_fix \\t NUMERIC\n",
    "    capex \\t NUMERIC\n",
    "    c_rate_in \\t NUMERIC\n",
    "    c_rate_out \\t NUMERIC\n",
    "    eta_in \\t NUMERIC\n",
    "    eta_out \\t NUMERIC\n",
    "    cap_loss \\t NUMERIC\n",
    "    lifetime \\t INTEGER\n",
    "    wacc \\t NUMERIC\n",
    "}\n",
    "\n",
    "\n",
    "Table(t6, \"abbb_transformer\") {\n",
    "    primary_key(id) \\t INTEGER\n",
    "    --\n",
    "    scenario \\t VARCHAR\n",
    "    region \\t VARCHAR\n",
    "    ressource \\t VARCHAR\n",
    "    transformer \\t VARCHAR\n",
    "    power \\t NUMERIC\n",
    "}\n",
    "\n",
    "\n",
    "Table(t7, \"abbb_transmission_capacity\") {\n",
    "    primary_key(id) \\t INTEGER\n",
    "    --\n",
    "    scenario \\t VARCHAR\n",
    "    from_region \\t VARCHAR\n",
    "    to_region \\t VARCHAR\n",
    "    capacity \\t NUMERIC\n",
    "}\n",
    "\n",
    "                                        \n",
    "@enduml\n",
    "                                                  "
   ]
  },
  {
   "cell_type": "code",
   "execution_count": null,
   "metadata": {},
   "outputs": [],
   "source": []
  }
 ],
 "metadata": {
  "celltoolbar": "Slideshow",
  "kernelspec": {
   "display_name": "Python3.7",
   "language": "python",
   "name": "python3.7"
  },
  "language_info": {
   "codemirror_mode": {
    "name": "ipython",
    "version": 3
   },
   "file_extension": ".py",
   "mimetype": "text/x-python",
   "name": "python",
   "nbconvert_exporter": "python",
   "pygments_lexer": "ipython3",
   "version": "3.7.0"
  },
  "livereveal": {
   "scroll": true
  },
  "rise": {
   "scroll": true
  }
 },
 "nbformat": 4,
 "nbformat_minor": 2
}
