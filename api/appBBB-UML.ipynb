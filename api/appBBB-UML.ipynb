{
 "cells": [
  {
   "cell_type": "markdown",
   "metadata": {
    "slideshow": {
     "slide_type": "skip"
    }
   },
   "source": [
    "<img src=\"http://reiner-lemoine-institut.de//wp-content/uploads/2015/09/rlilogo.png\" alt=\"RLI\" height=\"100\" width=\"100\" align=\"right\"/>\n",
    "\n",
    "# appBBB with UML\n",
    "\n",
    "This script uses package _iplantuml_ for plotting UMLs\n",
    "\n",
    "Installation:\n",
    "* install java: `sudo apt-get install default-jre graphviz`\n",
    "* download _plantuml.jar_ from http://plantuml.com/ and put it into _/usr/local/bin_\n",
    "* install package: `pip install iplantuml`\n",
    "* `import iplantuml`\n",
    "* done"
   ]
  },
  {
   "cell_type": "code",
   "execution_count": 20,
   "metadata": {},
   "outputs": [],
   "source": [
    "__copyright__ = \"Reiner Lemoine Institut\"\n",
    "__license__   = \"GNU Affero General Public License Version 3 (AGPL-3.0)\"\n",
    "__url__       = \"https://github.com/OpenEnergyPlatform/examples/blob/master/LICENSE\"\n",
    "__author__    = \"oakca\""
   ]
  },
  {
   "cell_type": "code",
   "execution_count": 18,
   "metadata": {
    "slideshow": {
     "slide_type": "skip"
    }
   },
   "outputs": [],
   "source": [
    "import iplantuml"
   ]
  },
  {
   "cell_type": "markdown",
   "metadata": {
    "slideshow": {
     "slide_type": "subslide"
    }
   },
   "source": [
    "## appBBB UML Diagrams"
   ]
  },
  {
   "cell_type": "code",
   "execution_count": 17,
   "metadata": {
    "rise": {
     "scroll": true
    },
    "scrolled": true,
    "slideshow": {
     "slide_type": "fragment"
    }
   },
   "outputs": [
    {
     "data": {
      "image/svg+xml": [
       "<svg contentScriptType=\"application/ecmascript\" contentStyleType=\"text/css\" height=\"420px\" preserveAspectRatio=\"none\" style=\"width:1293px;height:420px;\" version=\"1.1\" viewBox=\"0 0 1293 420\" width=\"1293px\" xmlns=\"http://www.w3.org/2000/svg\" xmlns:xlink=\"http://www.w3.org/1999/xlink\" zoomAndPan=\"magnify\"><defs><filter height=\"300%\" id=\"f12umcdk1oiobq\" width=\"300%\" x=\"-1\" y=\"-1\"><feGaussianBlur result=\"blurOut\" stdDeviation=\"2.0\"/><feColorMatrix in=\"blurOut\" result=\"blurOut2\" type=\"matrix\" values=\"0 0 0 0 0 0 0 0 0 0 0 0 0 0 0 0 0 0 .4 0\"/><feOffset dx=\"4.0\" dy=\"4.0\" in=\"blurOut2\" result=\"blurOut3\"/><feBlend in=\"SourceGraphic\" in2=\"blurOut3\" mode=\"normal\"/></filter></defs><g><!--class t1--><rect fill=\"#FEFECE\" filter=\"url(#f12umcdk1oiobq)\" height=\"99.2188\" id=\"t1\" style=\"stroke: #A80036; stroke-width: 1.5;\" width=\"141\" x=\"6\" y=\"202\"/><ellipse cx=\"21\" cy=\"218\" fill=\"#FFAAAA\" rx=\"11\" ry=\"11\" style=\"stroke: #A80036; stroke-width: 1.0;\"/><path d=\"M21.8438,224.75 L19.3906,224.75 L19.3906,214.5 L16.25,214.5 L16.25,212.3594 L24.9844,212.3594 L24.9844,214.5 L21.8438,214.5 L21.8438,224.75 Z \"/><text fill=\"#000000\" font-family=\"sans-serif\" font-size=\"12\" lengthAdjust=\"spacingAndGlyphs\" textLength=\"109\" x=\"35\" y=\"222.1543\">abbb_constraints</text><line style=\"stroke: #A80036; stroke-width: 1.5;\" x1=\"7\" x2=\"146\" y1=\"234\" y2=\"234\"/><image height=\"12\" width=\"17\" x=\"12\" xlink:href=\"data:image/png;base64,iVBORw0KGgoAAAANSUhEUgAAABEAAAAMCAIAAAALR8HoAAAAlElEQVR42mP49+8cqYgBmTNzZg0EEasHrvTdu4P4tTHANQCVIiO4ncgIoaejIw+oaPfuGeXliUASTTMyAqpE0QPUYGysBSTPnFkKREDNQIOBUkCRtLRgdD1A0bt3N69a1QVkAEkgG4KA2oAIqA7IBuoHyqL4B6INWTVQBKIIzsASbnBtEA3Exg/Q3RBEQpySkw6IRADSzvOQVltxNAAAAABJRU5ErkJggg==\" y=\"238.8047\"/><text fill=\"#000000\" font-family=\"sans-serif\" font-size=\"11\" font-weight=\"bold\" lengthAdjust=\"spacingAndGlyphs\" textLength=\"12\" x=\"29\" y=\"248.2104\">id</text><text fill=\"#000000\" font-family=\"sans-serif\" font-size=\"11\" lengthAdjust=\"spacingAndGlyphs\" textLength=\"0\" x=\"45\" y=\"248.2104\"/><text fill=\"#000000\" font-family=\"sans-serif\" font-size=\"11\" lengthAdjust=\"spacingAndGlyphs\" textLength=\"48\" x=\"53\" y=\"248.2104\">INTEGER</text><line style=\"stroke: #A80036; stroke-width: 1.0;\" x1=\"7\" x2=\"146\" y1=\"254.8047\" y2=\"254.8047\"/><text fill=\"#000000\" font-family=\"sans-serif\" font-size=\"11\" lengthAdjust=\"spacingAndGlyphs\" textLength=\"49\" x=\"12\" y=\"269.0151\">scenario</text><text fill=\"#000000\" font-family=\"sans-serif\" font-size=\"11\" lengthAdjust=\"spacingAndGlyphs\" textLength=\"51\" x=\"72\" y=\"269.0151\">VARCHAR</text><text fill=\"#000000\" font-family=\"sans-serif\" font-size=\"11\" lengthAdjust=\"spacingAndGlyphs\" textLength=\"36\" x=\"12\" y=\"281.8198\">constr</text><text fill=\"#000000\" font-family=\"sans-serif\" font-size=\"11\" lengthAdjust=\"spacingAndGlyphs\" textLength=\"51\" x=\"64\" y=\"281.8198\">VARCHAR</text><text fill=\"#000000\" font-family=\"sans-serif\" font-size=\"11\" lengthAdjust=\"spacingAndGlyphs\" textLength=\"16\" x=\"12\" y=\"294.6245\">val</text><text fill=\"#000000\" font-family=\"sans-serif\" font-size=\"11\" lengthAdjust=\"spacingAndGlyphs\" textLength=\"50\" x=\"40\" y=\"294.6245\">NUMERIC</text><path d=\"M24.5,8 L24.5,33.1328 A0,0 0 0 0 24.5,33.1328 L72.5,33.1328 L76.5,201.97 L80.5,33.1328 L128.5,33.1328 A0,0 0 0 0 128.5,33.1328 L128.5,18 L118.5,8 L24.5,8 A0,0 0 0 0 24.5,8 \" fill=\"#FBFB77\" filter=\"url(#f12umcdk1oiobq)\" style=\"stroke: #A80036; stroke-width: 1.0;\"/><path d=\"M118.5,8 L118.5,18 L128.5,18 L118.5,8 \" fill=\"#FBFB77\" style=\"stroke: #A80036; stroke-width: 1.0;\"/><text fill=\"#000000\" font-family=\"sans-serif\" font-size=\"13\" lengthAdjust=\"spacingAndGlyphs\" textLength=\"83\" x=\"30.5\" y=\"25.0669\">tabbing error</text><!--class t2--><rect fill=\"#FEFECE\" filter=\"url(#f12umcdk1oiobq)\" height=\"124.8281\" id=\"t2\" style=\"stroke: #A80036; stroke-width: 1.5;\" width=\"123\" x=\"182\" y=\"189\"/><ellipse cx=\"197.9\" cy=\"205\" fill=\"#FFAAAA\" rx=\"11\" ry=\"11\" style=\"stroke: #A80036; stroke-width: 1.0;\"/><path d=\"M198.7438,211.75 L196.2906,211.75 L196.2906,201.5 L193.15,201.5 L193.15,199.3594 L201.8844,199.3594 L201.8844,201.5 L198.7438,201.5 L198.7438,211.75 Z \"/><text fill=\"#000000\" font-family=\"sans-serif\" font-size=\"12\" lengthAdjust=\"spacingAndGlyphs\" textLength=\"89\" x=\"212.1\" y=\"209.1543\">abbb_demand</text><line style=\"stroke: #A80036; stroke-width: 1.5;\" x1=\"183\" x2=\"304\" y1=\"221\" y2=\"221\"/><image height=\"12\" width=\"17\" x=\"188\" xlink:href=\"data:image/png;base64,iVBORw0KGgoAAAANSUhEUgAAABEAAAAMCAIAAAALR8HoAAAAlElEQVR42mP49+8cqYgBmTNzZg0EEasHrvTdu4P4tTHANQCVIiO4ncgIoaejIw+oaPfuGeXliUASTTMyAqpE0QPUYGysBSTPnFkKREDNQIOBUkCRtLRgdD1A0bt3N69a1QVkAEkgG4KA2oAIqA7IBuoHyqL4B6INWTVQBKIIzsASbnBtEA3Exg/Q3RBEQpySkw6IRADSzvOQVltxNAAAAABJRU5ErkJggg==\" y=\"225.8047\"/><text fill=\"#000000\" font-family=\"sans-serif\" font-size=\"11\" font-weight=\"bold\" lengthAdjust=\"spacingAndGlyphs\" textLength=\"12\" x=\"205\" y=\"235.2104\">id</text><text fill=\"#000000\" font-family=\"sans-serif\" font-size=\"11\" lengthAdjust=\"spacingAndGlyphs\" textLength=\"0\" x=\"221\" y=\"235.2104\"/><text fill=\"#000000\" font-family=\"sans-serif\" font-size=\"11\" lengthAdjust=\"spacingAndGlyphs\" textLength=\"48\" x=\"229\" y=\"235.2104\">INTEGER</text><line style=\"stroke: #A80036; stroke-width: 1.0;\" x1=\"183\" x2=\"304\" y1=\"241.8047\" y2=\"241.8047\"/><text fill=\"#000000\" font-family=\"sans-serif\" font-size=\"11\" lengthAdjust=\"spacingAndGlyphs\" textLength=\"49\" x=\"188\" y=\"256.0151\">scenario</text><text fill=\"#000000\" font-family=\"sans-serif\" font-size=\"11\" lengthAdjust=\"spacingAndGlyphs\" textLength=\"51\" x=\"248\" y=\"256.0151\">VARCHAR</text><text fill=\"#000000\" font-family=\"sans-serif\" font-size=\"11\" lengthAdjust=\"spacingAndGlyphs\" textLength=\"36\" x=\"188\" y=\"268.8198\">region</text><text fill=\"#000000\" font-family=\"sans-serif\" font-size=\"11\" lengthAdjust=\"spacingAndGlyphs\" textLength=\"51\" x=\"240\" y=\"268.8198\">VARCHAR</text><text fill=\"#000000\" font-family=\"sans-serif\" font-size=\"11\" lengthAdjust=\"spacingAndGlyphs\" textLength=\"36\" x=\"188\" y=\"281.6245\">sector</text><text fill=\"#000000\" font-family=\"sans-serif\" font-size=\"11\" lengthAdjust=\"spacingAndGlyphs\" textLength=\"51\" x=\"240\" y=\"281.6245\">VARCHAR</text><text fill=\"#000000\" font-family=\"sans-serif\" font-size=\"11\" lengthAdjust=\"spacingAndGlyphs\" textLength=\"24\" x=\"188\" y=\"294.4292\">type</text><text fill=\"#000000\" font-family=\"sans-serif\" font-size=\"11\" lengthAdjust=\"spacingAndGlyphs\" textLength=\"51\" x=\"224\" y=\"294.4292\">VARCHAR</text><text fill=\"#000000\" font-family=\"sans-serif\" font-size=\"11\" lengthAdjust=\"spacingAndGlyphs\" textLength=\"46\" x=\"188\" y=\"307.2339\">demand</text><text fill=\"#000000\" font-family=\"sans-serif\" font-size=\"11\" lengthAdjust=\"spacingAndGlyphs\" textLength=\"50\" x=\"248\" y=\"307.2339\">NUMERIC</text><path d=\"M191.5,8 L191.5,33.1328 A0,0 0 0 0 191.5,33.1328 L239.5,33.1328 L243.5,188.902 L247.5,33.1328 L295.5,33.1328 A0,0 0 0 0 295.5,33.1328 L295.5,18 L285.5,8 L191.5,8 A0,0 0 0 0 191.5,8 \" fill=\"#FBFB77\" filter=\"url(#f12umcdk1oiobq)\" style=\"stroke: #A80036; stroke-width: 1.0;\"/><path d=\"M285.5,8 L285.5,18 L295.5,18 L285.5,8 \" fill=\"#FBFB77\" style=\"stroke: #A80036; stroke-width: 1.0;\"/><text fill=\"#000000\" font-family=\"sans-serif\" font-size=\"13\" lengthAdjust=\"spacingAndGlyphs\" textLength=\"83\" x=\"197.5\" y=\"25.0669\">tabbing error</text><!--class t3--><rect fill=\"#FEFECE\" filter=\"url(#f12umcdk1oiobq)\" height=\"99.2188\" id=\"t3\" style=\"stroke: #A80036; stroke-width: 1.5;\" width=\"123\" x=\"340\" y=\"202\"/><ellipse cx=\"363.1\" cy=\"218\" fill=\"#FFAAAA\" rx=\"11\" ry=\"11\" style=\"stroke: #A80036; stroke-width: 1.0;\"/><path d=\"M363.9438,224.75 L361.4906,224.75 L361.4906,214.5 L358.35,214.5 L358.35,212.3594 L367.0844,212.3594 L367.0844,214.5 L363.9438,214.5 L363.9438,224.75 Z \"/><text fill=\"#000000\" font-family=\"sans-serif\" font-size=\"12\" lengthAdjust=\"spacingAndGlyphs\" textLength=\"73\" x=\"378.9\" y=\"222.1543\">abbb_emob</text><line style=\"stroke: #A80036; stroke-width: 1.5;\" x1=\"341\" x2=\"462\" y1=\"234\" y2=\"234\"/><image height=\"12\" width=\"17\" x=\"346\" xlink:href=\"data:image/png;base64,iVBORw0KGgoAAAANSUhEUgAAABEAAAAMCAIAAAALR8HoAAAAlElEQVR42mP49+8cqYgBmTNzZg0EEasHrvTdu4P4tTHANQCVIiO4ncgIoaejIw+oaPfuGeXliUASTTMyAqpE0QPUYGysBSTPnFkKREDNQIOBUkCRtLRgdD1A0bt3N69a1QVkAEkgG4KA2oAIqA7IBuoHyqL4B6INWTVQBKIIzsASbnBtEA3Exg/Q3RBEQpySkw6IRADSzvOQVltxNAAAAABJRU5ErkJggg==\" y=\"238.8047\"/><text fill=\"#000000\" font-family=\"sans-serif\" font-size=\"11\" font-weight=\"bold\" lengthAdjust=\"spacingAndGlyphs\" textLength=\"12\" x=\"363\" y=\"248.2104\">id</text><text fill=\"#000000\" font-family=\"sans-serif\" font-size=\"11\" lengthAdjust=\"spacingAndGlyphs\" textLength=\"0\" x=\"379\" y=\"248.2104\"/><text fill=\"#000000\" font-family=\"sans-serif\" font-size=\"11\" lengthAdjust=\"spacingAndGlyphs\" textLength=\"48\" x=\"387\" y=\"248.2104\">INTEGER</text><line style=\"stroke: #A80036; stroke-width: 1.0;\" x1=\"341\" x2=\"462\" y1=\"254.8047\" y2=\"254.8047\"/><text fill=\"#000000\" font-family=\"sans-serif\" font-size=\"11\" lengthAdjust=\"spacingAndGlyphs\" textLength=\"49\" x=\"346\" y=\"269.0151\">scenario</text><text fill=\"#000000\" font-family=\"sans-serif\" font-size=\"11\" lengthAdjust=\"spacingAndGlyphs\" textLength=\"51\" x=\"406\" y=\"269.0151\">VARCHAR</text><text fill=\"#000000\" font-family=\"sans-serif\" font-size=\"11\" lengthAdjust=\"spacingAndGlyphs\" textLength=\"36\" x=\"346\" y=\"281.8198\">region</text><text fill=\"#000000\" font-family=\"sans-serif\" font-size=\"11\" lengthAdjust=\"spacingAndGlyphs\" textLength=\"51\" x=\"398\" y=\"281.8198\">VARCHAR</text><text fill=\"#000000\" font-family=\"sans-serif\" font-size=\"11\" lengthAdjust=\"spacingAndGlyphs\" textLength=\"39\" x=\"346\" y=\"294.6245\">energy</text><text fill=\"#000000\" font-family=\"sans-serif\" font-size=\"11\" lengthAdjust=\"spacingAndGlyphs\" textLength=\"50\" x=\"398\" y=\"294.6245\">NUMERIC</text><path d=\"M349.5,8 L349.5,33.1328 A0,0 0 0 0 349.5,33.1328 L397.5,33.1328 L401.5,201.97 L405.5,33.1328 L453.5,33.1328 A0,0 0 0 0 453.5,33.1328 L453.5,18 L443.5,8 L349.5,8 A0,0 0 0 0 349.5,8 \" fill=\"#FBFB77\" filter=\"url(#f12umcdk1oiobq)\" style=\"stroke: #A80036; stroke-width: 1.0;\"/><path d=\"M443.5,8 L443.5,18 L453.5,18 L443.5,8 \" fill=\"#FBFB77\" style=\"stroke: #A80036; stroke-width: 1.0;\"/><text fill=\"#000000\" font-family=\"sans-serif\" font-size=\"13\" lengthAdjust=\"spacingAndGlyphs\" textLength=\"83\" x=\"355.5\" y=\"25.0669\">tabbing error</text><!--class t4--><rect fill=\"#FEFECE\" filter=\"url(#f12umcdk1oiobq)\" height=\"112.0234\" id=\"t4\" style=\"stroke: #A80036; stroke-width: 1.5;\" width=\"117\" x=\"498\" y=\"195.5\"/><ellipse cx=\"513\" cy=\"211.5\" fill=\"#FFAAAA\" rx=\"11\" ry=\"11\" style=\"stroke: #A80036; stroke-width: 1.0;\"/><path d=\"M513.8438,218.25 L511.3906,218.25 L511.3906,208 L508.25,208 L508.25,205.8594 L516.9844,205.8594 L516.9844,208 L513.8438,208 L513.8438,218.25 Z \"/><text fill=\"#000000\" font-family=\"sans-serif\" font-size=\"12\" lengthAdjust=\"spacingAndGlyphs\" textLength=\"85\" x=\"527\" y=\"215.6543\">abbb_regions</text><line style=\"stroke: #A80036; stroke-width: 1.5;\" x1=\"499\" x2=\"614\" y1=\"227.5\" y2=\"227.5\"/><image height=\"12\" width=\"17\" x=\"504\" xlink:href=\"data:image/png;base64,iVBORw0KGgoAAAANSUhEUgAAABEAAAAMCAIAAAALR8HoAAAAlElEQVR42mP49+8cqYgBmTNzZg0EEasHrvTdu4P4tTHANQCVIiO4ncgIoaejIw+oaPfuGeXliUASTTMyAqpE0QPUYGysBSTPnFkKREDNQIOBUkCRtLRgdD1A0bt3N69a1QVkAEkgG4KA2oAIqA7IBuoHyqL4B6INWTVQBKIIzsASbnBtEA3Exg/Q3RBEQpySkw6IRADSzvOQVltxNAAAAABJRU5ErkJggg==\" y=\"232.3047\"/><text fill=\"#000000\" font-family=\"sans-serif\" font-size=\"11\" font-weight=\"bold\" lengthAdjust=\"spacingAndGlyphs\" textLength=\"12\" x=\"521\" y=\"241.7104\">id</text><text fill=\"#000000\" font-family=\"sans-serif\" font-size=\"11\" lengthAdjust=\"spacingAndGlyphs\" textLength=\"0\" x=\"537\" y=\"241.7104\"/><text fill=\"#000000\" font-family=\"sans-serif\" font-size=\"11\" lengthAdjust=\"spacingAndGlyphs\" textLength=\"48\" x=\"545\" y=\"241.7104\">INTEGER</text><line style=\"stroke: #A80036; stroke-width: 1.0;\" x1=\"499\" x2=\"614\" y1=\"248.3047\" y2=\"248.3047\"/><text fill=\"#000000\" font-family=\"sans-serif\" font-size=\"11\" lengthAdjust=\"spacingAndGlyphs\" textLength=\"36\" x=\"504\" y=\"262.5151\">region</text><text fill=\"#000000\" font-family=\"sans-serif\" font-size=\"11\" lengthAdjust=\"spacingAndGlyphs\" textLength=\"51\" x=\"556\" y=\"262.5151\">VARCHAR</text><text fill=\"#000000\" font-family=\"sans-serif\" font-size=\"11\" lengthAdjust=\"spacingAndGlyphs\" textLength=\"19\" x=\"504\" y=\"275.3198\">reg</text><text fill=\"#000000\" font-family=\"sans-serif\" font-size=\"11\" lengthAdjust=\"spacingAndGlyphs\" textLength=\"51\" x=\"532\" y=\"275.3198\">VARCHAR</text><text fill=\"#000000\" font-family=\"sans-serif\" font-size=\"11\" lengthAdjust=\"spacingAndGlyphs\" textLength=\"35\" x=\"504\" y=\"288.1245\">nutsid</text><text fill=\"#000000\" font-family=\"sans-serif\" font-size=\"11\" lengthAdjust=\"spacingAndGlyphs\" textLength=\"51\" x=\"548\" y=\"288.1245\">VARCHAR</text><text fill=\"#000000\" font-family=\"sans-serif\" font-size=\"11\" lengthAdjust=\"spacingAndGlyphs\" textLength=\"98\" x=\"504\" y=\"300.9292\">geom GEOMETRY</text><path d=\"M504.5,8 L504.5,33.1328 A0,0 0 0 0 504.5,33.1328 L552.5,33.1328 L556.5,195.304 L560.5,33.1328 L608.5,33.1328 A0,0 0 0 0 608.5,33.1328 L608.5,18 L598.5,8 L504.5,8 A0,0 0 0 0 504.5,8 \" fill=\"#FBFB77\" filter=\"url(#f12umcdk1oiobq)\" style=\"stroke: #A80036; stroke-width: 1.0;\"/><path d=\"M598.5,8 L598.5,18 L608.5,18 L598.5,8 \" fill=\"#FBFB77\" style=\"stroke: #A80036; stroke-width: 1.0;\"/><text fill=\"#000000\" font-family=\"sans-serif\" font-size=\"13\" lengthAdjust=\"spacingAndGlyphs\" textLength=\"83\" x=\"510.5\" y=\"25.0669\">tabbing error</text><!--class t5--><rect fill=\"#FEFECE\" filter=\"url(#f12umcdk1oiobq)\" height=\"316.8984\" id=\"t5\" style=\"stroke: #A80036; stroke-width: 1.5;\" width=\"206\" x=\"650.5\" y=\"93\"/><ellipse cx=\"665.5\" cy=\"109\" fill=\"#FFAAAA\" rx=\"11\" ry=\"11\" style=\"stroke: #A80036; stroke-width: 1.0;\"/><path d=\"M666.3438,115.75 L663.8906,115.75 L663.8906,105.5 L660.75,105.5 L660.75,103.3594 L669.4844,103.3594 L669.4844,105.5 L666.3438,105.5 L666.3438,115.75 Z \"/><text fill=\"#000000\" font-family=\"sans-serif\" font-size=\"12\" lengthAdjust=\"spacingAndGlyphs\" textLength=\"174\" x=\"679.5\" y=\"113.1543\">abbb_simulation_parameter</text><line style=\"stroke: #A80036; stroke-width: 1.5;\" x1=\"651.5\" x2=\"855.5\" y1=\"125\" y2=\"125\"/><image height=\"12\" width=\"17\" x=\"656.5\" xlink:href=\"data:image/png;base64,iVBORw0KGgoAAAANSUhEUgAAABEAAAAMCAIAAAALR8HoAAAAlElEQVR42mP49+8cqYgBmTNzZg0EEasHrvTdu4P4tTHANQCVIiO4ncgIoaejIw+oaPfuGeXliUASTTMyAqpE0QPUYGysBSTPnFkKREDNQIOBUkCRtLRgdD1A0bt3N69a1QVkAEkgG4KA2oAIqA7IBuoHyqL4B6INWTVQBKIIzsASbnBtEA3Exg/Q3RBEQpySkw6IRADSzvOQVltxNAAAAABJRU5ErkJggg==\" y=\"129.8047\"/><text fill=\"#000000\" font-family=\"sans-serif\" font-size=\"11\" font-weight=\"bold\" lengthAdjust=\"spacingAndGlyphs\" textLength=\"12\" x=\"673.5\" y=\"139.2104\">id</text><text fill=\"#000000\" font-family=\"sans-serif\" font-size=\"11\" lengthAdjust=\"spacingAndGlyphs\" textLength=\"0\" x=\"689.5\" y=\"139.2104\"/><text fill=\"#000000\" font-family=\"sans-serif\" font-size=\"11\" lengthAdjust=\"spacingAndGlyphs\" textLength=\"48\" x=\"697.5\" y=\"139.2104\">INTEGER</text><line style=\"stroke: #A80036; stroke-width: 1.0;\" x1=\"651.5\" x2=\"855.5\" y1=\"145.8047\" y2=\"145.8047\"/><text fill=\"#000000\" font-family=\"sans-serif\" font-size=\"11\" lengthAdjust=\"spacingAndGlyphs\" textLength=\"61\" x=\"656.5\" y=\"160.0151\">technology</text><text fill=\"#000000\" font-family=\"sans-serif\" font-size=\"11\" lengthAdjust=\"spacingAndGlyphs\" textLength=\"51\" x=\"732.5\" y=\"160.0151\">VARCHAR</text><text fill=\"#000000\" font-family=\"sans-serif\" font-size=\"11\" lengthAdjust=\"spacingAndGlyphs\" textLength=\"44\" x=\"656.5\" y=\"172.8198\">co2_var</text><text fill=\"#000000\" font-family=\"sans-serif\" font-size=\"11\" lengthAdjust=\"spacingAndGlyphs\" textLength=\"50\" x=\"716.5\" y=\"172.8198\">NUMERIC</text><text fill=\"#000000\" font-family=\"sans-serif\" font-size=\"11\" lengthAdjust=\"spacingAndGlyphs\" textLength=\"39\" x=\"656.5\" y=\"185.6245\">co2_fix</text><text fill=\"#000000\" font-family=\"sans-serif\" font-size=\"11\" lengthAdjust=\"spacingAndGlyphs\" textLength=\"50\" x=\"708.5\" y=\"185.6245\">NUMERIC</text><text fill=\"#000000\" font-family=\"sans-serif\" font-size=\"11\" lengthAdjust=\"spacingAndGlyphs\" textLength=\"47\" x=\"656.5\" y=\"198.4292\">eta_elec</text><text fill=\"#000000\" font-family=\"sans-serif\" font-size=\"11\" lengthAdjust=\"spacingAndGlyphs\" textLength=\"50\" x=\"716.5\" y=\"198.4292\">NUMERIC</text><text fill=\"#000000\" font-family=\"sans-serif\" font-size=\"11\" lengthAdjust=\"spacingAndGlyphs\" textLength=\"35\" x=\"656.5\" y=\"211.2339\">eta_th</text><text fill=\"#000000\" font-family=\"sans-serif\" font-size=\"11\" lengthAdjust=\"spacingAndGlyphs\" textLength=\"50\" x=\"700.5\" y=\"211.2339\">NUMERIC</text><text fill=\"#000000\" font-family=\"sans-serif\" font-size=\"11\" lengthAdjust=\"spacingAndGlyphs\" textLength=\"60\" x=\"656.5\" y=\"224.0386\">eta_el_chp</text><text fill=\"#000000\" font-family=\"sans-serif\" font-size=\"11\" lengthAdjust=\"spacingAndGlyphs\" textLength=\"50\" x=\"732.5\" y=\"224.0386\">NUMERIC</text><text fill=\"#000000\" font-family=\"sans-serif\" font-size=\"11\" lengthAdjust=\"spacingAndGlyphs\" textLength=\"61\" x=\"656.5\" y=\"236.8433\">eta_th_chp</text><text fill=\"#000000\" font-family=\"sans-serif\" font-size=\"11\" lengthAdjust=\"spacingAndGlyphs\" textLength=\"50\" x=\"732.5\" y=\"236.8433\">NUMERIC</text><text fill=\"#000000\" font-family=\"sans-serif\" font-size=\"11\" lengthAdjust=\"spacingAndGlyphs\" textLength=\"86\" x=\"656.5\" y=\"249.6479\">eta_chp_flex_el</text><text fill=\"#000000\" font-family=\"sans-serif\" font-size=\"11\" lengthAdjust=\"spacingAndGlyphs\" textLength=\"50\" x=\"756.5\" y=\"249.6479\">NUMERIC</text><text fill=\"#000000\" font-family=\"sans-serif\" font-size=\"11\" lengthAdjust=\"spacingAndGlyphs\" textLength=\"61\" x=\"656.5\" y=\"262.4526\">sigma_chp</text><text fill=\"#000000\" font-family=\"sans-serif\" font-size=\"11\" lengthAdjust=\"spacingAndGlyphs\" textLength=\"50\" x=\"732.5\" y=\"262.4526\">NUMERIC</text><text fill=\"#000000\" font-family=\"sans-serif\" font-size=\"11\" lengthAdjust=\"spacingAndGlyphs\" textLength=\"51\" x=\"656.5\" y=\"275.2573\">beta_chp</text><text fill=\"#000000\" font-family=\"sans-serif\" font-size=\"11\" lengthAdjust=\"spacingAndGlyphs\" textLength=\"50\" x=\"716.5\" y=\"275.2573\">NUMERIC</text><text fill=\"#000000\" font-family=\"sans-serif\" font-size=\"11\" lengthAdjust=\"spacingAndGlyphs\" textLength=\"51\" x=\"656.5\" y=\"288.062\">opex_var</text><text fill=\"#000000\" font-family=\"sans-serif\" font-size=\"11\" lengthAdjust=\"spacingAndGlyphs\" textLength=\"50\" x=\"716.5\" y=\"288.062\">NUMERIC</text><text fill=\"#000000\" font-family=\"sans-serif\" font-size=\"11\" lengthAdjust=\"spacingAndGlyphs\" textLength=\"46\" x=\"656.5\" y=\"300.8667\">opex_fix</text><text fill=\"#000000\" font-family=\"sans-serif\" font-size=\"11\" lengthAdjust=\"spacingAndGlyphs\" textLength=\"50\" x=\"716.5\" y=\"300.8667\">NUMERIC</text><text fill=\"#000000\" font-family=\"sans-serif\" font-size=\"11\" lengthAdjust=\"spacingAndGlyphs\" textLength=\"33\" x=\"656.5\" y=\"313.6714\">capex</text><text fill=\"#000000\" font-family=\"sans-serif\" font-size=\"11\" lengthAdjust=\"spacingAndGlyphs\" textLength=\"50\" x=\"700.5\" y=\"313.6714\">NUMERIC</text><text fill=\"#000000\" font-family=\"sans-serif\" font-size=\"11\" lengthAdjust=\"spacingAndGlyphs\" textLength=\"51\" x=\"656.5\" y=\"326.4761\">c_rate_in</text><text fill=\"#000000\" font-family=\"sans-serif\" font-size=\"11\" lengthAdjust=\"spacingAndGlyphs\" textLength=\"50\" x=\"716.5\" y=\"326.4761\">NUMERIC</text><text fill=\"#000000\" font-family=\"sans-serif\" font-size=\"11\" lengthAdjust=\"spacingAndGlyphs\" textLength=\"59\" x=\"656.5\" y=\"339.2808\">c_rate_out</text><text fill=\"#000000\" font-family=\"sans-serif\" font-size=\"11\" lengthAdjust=\"spacingAndGlyphs\" textLength=\"50\" x=\"724.5\" y=\"339.2808\">NUMERIC</text><text fill=\"#000000\" font-family=\"sans-serif\" font-size=\"11\" lengthAdjust=\"spacingAndGlyphs\" textLength=\"34\" x=\"656.5\" y=\"352.0854\">eta_in</text><text fill=\"#000000\" font-family=\"sans-serif\" font-size=\"11\" lengthAdjust=\"spacingAndGlyphs\" textLength=\"50\" x=\"700.5\" y=\"352.0854\">NUMERIC</text><text fill=\"#000000\" font-family=\"sans-serif\" font-size=\"11\" lengthAdjust=\"spacingAndGlyphs\" textLength=\"42\" x=\"656.5\" y=\"364.8901\">eta_out</text><text fill=\"#000000\" font-family=\"sans-serif\" font-size=\"11\" lengthAdjust=\"spacingAndGlyphs\" textLength=\"50\" x=\"708.5\" y=\"364.8901\">NUMERIC</text><text fill=\"#000000\" font-family=\"sans-serif\" font-size=\"11\" lengthAdjust=\"spacingAndGlyphs\" textLength=\"50\" x=\"656.5\" y=\"377.6948\">cap_loss</text><text fill=\"#000000\" font-family=\"sans-serif\" font-size=\"11\" lengthAdjust=\"spacingAndGlyphs\" textLength=\"50\" x=\"716.5\" y=\"377.6948\">NUMERIC</text><text fill=\"#000000\" font-family=\"sans-serif\" font-size=\"11\" lengthAdjust=\"spacingAndGlyphs\" textLength=\"42\" x=\"656.5\" y=\"390.4995\">lifetime</text><text fill=\"#000000\" font-family=\"sans-serif\" font-size=\"11\" lengthAdjust=\"spacingAndGlyphs\" textLength=\"48\" x=\"708.5\" y=\"390.4995\">INTEGER</text><text fill=\"#000000\" font-family=\"sans-serif\" font-size=\"11\" lengthAdjust=\"spacingAndGlyphs\" textLength=\"28\" x=\"656.5\" y=\"403.3042\">wacc</text><text fill=\"#000000\" font-family=\"sans-serif\" font-size=\"11\" lengthAdjust=\"spacingAndGlyphs\" textLength=\"50\" x=\"700.5\" y=\"403.3042\">NUMERIC</text><path d=\"M671,8 L671,33.1328 A0,0 0 0 0 671,33.1328 L749.5,33.1328 L753.5,92.97 L757.5,33.1328 L836,33.1328 A0,0 0 0 0 836,33.1328 L836,18 L826,8 L671,8 A0,0 0 0 0 671,8 \" fill=\"#FBFB77\" filter=\"url(#f12umcdk1oiobq)\" style=\"stroke: #A80036; stroke-width: 1.0;\"/><path d=\"M826,8 L826,18 L836,18 L826,8 \" fill=\"#FBFB77\" style=\"stroke: #A80036; stroke-width: 1.0;\"/><text fill=\"#000000\" font-family=\"sans-serif\" font-size=\"13\" lengthAdjust=\"spacingAndGlyphs\" textLength=\"144\" x=\"677\" y=\"25.0669\">normalization needed!</text><!--class t6--><rect fill=\"#FEFECE\" filter=\"url(#f12umcdk1oiobq)\" height=\"124.8281\" id=\"t6\" style=\"stroke: #A80036; stroke-width: 1.5;\" width=\"147\" x=\"892\" y=\"189\"/><ellipse cx=\"908.35\" cy=\"205\" fill=\"#FFAAAA\" rx=\"11\" ry=\"11\" style=\"stroke: #A80036; stroke-width: 1.0;\"/><path d=\"M909.1938,211.75 L906.7406,211.75 L906.7406,201.5 L903.6,201.5 L903.6,199.3594 L912.3344,199.3594 L912.3344,201.5 L909.1938,201.5 L909.1938,211.75 Z \"/><text fill=\"#000000\" font-family=\"sans-serif\" font-size=\"12\" lengthAdjust=\"spacingAndGlyphs\" textLength=\"112\" x=\"922.65\" y=\"209.1543\">abbb_transformer</text><line style=\"stroke: #A80036; stroke-width: 1.5;\" x1=\"893\" x2=\"1038\" y1=\"221\" y2=\"221\"/><image height=\"12\" width=\"17\" x=\"898\" xlink:href=\"data:image/png;base64,iVBORw0KGgoAAAANSUhEUgAAABEAAAAMCAIAAAALR8HoAAAAlElEQVR42mP49+8cqYgBmTNzZg0EEasHrvTdu4P4tTHANQCVIiO4ncgIoaejIw+oaPfuGeXliUASTTMyAqpE0QPUYGysBSTPnFkKREDNQIOBUkCRtLRgdD1A0bt3N69a1QVkAEkgG4KA2oAIqA7IBuoHyqL4B6INWTVQBKIIzsASbnBtEA3Exg/Q3RBEQpySkw6IRADSzvOQVltxNAAAAABJRU5ErkJggg==\" y=\"225.8047\"/><text fill=\"#000000\" font-family=\"sans-serif\" font-size=\"11\" font-weight=\"bold\" lengthAdjust=\"spacingAndGlyphs\" textLength=\"12\" x=\"915\" y=\"235.2104\">id</text><text fill=\"#000000\" font-family=\"sans-serif\" font-size=\"11\" lengthAdjust=\"spacingAndGlyphs\" textLength=\"0\" x=\"931\" y=\"235.2104\"/><text fill=\"#000000\" font-family=\"sans-serif\" font-size=\"11\" lengthAdjust=\"spacingAndGlyphs\" textLength=\"48\" x=\"939\" y=\"235.2104\">INTEGER</text><line style=\"stroke: #A80036; stroke-width: 1.0;\" x1=\"893\" x2=\"1038\" y1=\"241.8047\" y2=\"241.8047\"/><text fill=\"#000000\" font-family=\"sans-serif\" font-size=\"11\" lengthAdjust=\"spacingAndGlyphs\" textLength=\"49\" x=\"898\" y=\"256.0151\">scenario</text><text fill=\"#000000\" font-family=\"sans-serif\" font-size=\"11\" lengthAdjust=\"spacingAndGlyphs\" textLength=\"51\" x=\"958\" y=\"256.0151\">VARCHAR</text><text fill=\"#000000\" font-family=\"sans-serif\" font-size=\"11\" lengthAdjust=\"spacingAndGlyphs\" textLength=\"36\" x=\"898\" y=\"268.8198\">region</text><text fill=\"#000000\" font-family=\"sans-serif\" font-size=\"11\" lengthAdjust=\"spacingAndGlyphs\" textLength=\"51\" x=\"950\" y=\"268.8198\">VARCHAR</text><text fill=\"#000000\" font-family=\"sans-serif\" font-size=\"11\" lengthAdjust=\"spacingAndGlyphs\" textLength=\"58\" x=\"898\" y=\"281.6245\">ressource</text><text fill=\"#000000\" font-family=\"sans-serif\" font-size=\"11\" lengthAdjust=\"spacingAndGlyphs\" textLength=\"51\" x=\"966\" y=\"281.6245\">VARCHAR</text><text fill=\"#000000\" font-family=\"sans-serif\" font-size=\"11\" lengthAdjust=\"spacingAndGlyphs\" textLength=\"69\" x=\"898\" y=\"294.4292\">transformer</text><text fill=\"#000000\" font-family=\"sans-serif\" font-size=\"11\" lengthAdjust=\"spacingAndGlyphs\" textLength=\"51\" x=\"982\" y=\"294.4292\">VARCHAR</text><text fill=\"#000000\" font-family=\"sans-serif\" font-size=\"11\" lengthAdjust=\"spacingAndGlyphs\" textLength=\"35\" x=\"898\" y=\"307.2339\">power</text><text fill=\"#000000\" font-family=\"sans-serif\" font-size=\"11\" lengthAdjust=\"spacingAndGlyphs\" textLength=\"50\" x=\"942\" y=\"307.2339\">NUMERIC</text><path d=\"M913.5,8 L913.5,33.1328 A0,0 0 0 0 913.5,33.1328 L961.5,33.1328 L965.5,188.902 L969.5,33.1328 L1017.5,33.1328 A0,0 0 0 0 1017.5,33.1328 L1017.5,18 L1007.5,8 L913.5,8 A0,0 0 0 0 913.5,8 \" fill=\"#FBFB77\" filter=\"url(#f12umcdk1oiobq)\" style=\"stroke: #A80036; stroke-width: 1.0;\"/><path d=\"M1007.5,8 L1007.5,18 L1017.5,18 L1007.5,8 \" fill=\"#FBFB77\" style=\"stroke: #A80036; stroke-width: 1.0;\"/><text fill=\"#000000\" font-family=\"sans-serif\" font-size=\"13\" lengthAdjust=\"spacingAndGlyphs\" textLength=\"83\" x=\"919.5\" y=\"25.0669\">tabbing error</text><!--class t7--><rect fill=\"#FEFECE\" filter=\"url(#f12umcdk1oiobq)\" height=\"112.0234\" id=\"t7\" style=\"stroke: #A80036; stroke-width: 1.5;\" width=\"208\" x=\"1074.5\" y=\"195.5\"/><ellipse cx=\"1089.5\" cy=\"211.5\" fill=\"#FFAAAA\" rx=\"11\" ry=\"11\" style=\"stroke: #A80036; stroke-width: 1.0;\"/><path d=\"M1090.3438,218.25 L1087.8906,218.25 L1087.8906,208 L1084.75,208 L1084.75,205.8594 L1093.4844,205.8594 L1093.4844,208 L1090.3438,208 L1090.3438,218.25 Z \"/><text fill=\"#000000\" font-family=\"sans-serif\" font-size=\"12\" lengthAdjust=\"spacingAndGlyphs\" textLength=\"176\" x=\"1103.5\" y=\"215.6543\">abbb_transmission_capacity</text><line style=\"stroke: #A80036; stroke-width: 1.5;\" x1=\"1075.5\" x2=\"1281.5\" y1=\"227.5\" y2=\"227.5\"/><image height=\"12\" width=\"17\" x=\"1080.5\" xlink:href=\"data:image/png;base64,iVBORw0KGgoAAAANSUhEUgAAABEAAAAMCAIAAAALR8HoAAAAlElEQVR42mP49+8cqYgBmTNzZg0EEasHrvTdu4P4tTHANQCVIiO4ncgIoaejIw+oaPfuGeXliUASTTMyAqpE0QPUYGysBSTPnFkKREDNQIOBUkCRtLRgdD1A0bt3N69a1QVkAEkgG4KA2oAIqA7IBuoHyqL4B6INWTVQBKIIzsASbnBtEA3Exg/Q3RBEQpySkw6IRADSzvOQVltxNAAAAABJRU5ErkJggg==\" y=\"232.3047\"/><text fill=\"#000000\" font-family=\"sans-serif\" font-size=\"11\" font-weight=\"bold\" lengthAdjust=\"spacingAndGlyphs\" textLength=\"12\" x=\"1097.5\" y=\"241.7104\">id</text><text fill=\"#000000\" font-family=\"sans-serif\" font-size=\"11\" lengthAdjust=\"spacingAndGlyphs\" textLength=\"0\" x=\"1113.5\" y=\"241.7104\"/><text fill=\"#000000\" font-family=\"sans-serif\" font-size=\"11\" lengthAdjust=\"spacingAndGlyphs\" textLength=\"48\" x=\"1121.5\" y=\"241.7104\">INTEGER</text><line style=\"stroke: #A80036; stroke-width: 1.0;\" x1=\"1075.5\" x2=\"1281.5\" y1=\"248.3047\" y2=\"248.3047\"/><text fill=\"#000000\" font-family=\"sans-serif\" font-size=\"11\" lengthAdjust=\"spacingAndGlyphs\" textLength=\"49\" x=\"1080.5\" y=\"262.5151\">scenario</text><text fill=\"#000000\" font-family=\"sans-serif\" font-size=\"11\" lengthAdjust=\"spacingAndGlyphs\" textLength=\"51\" x=\"1140.5\" y=\"262.5151\">VARCHAR</text><text fill=\"#000000\" font-family=\"sans-serif\" font-size=\"11\" lengthAdjust=\"spacingAndGlyphs\" textLength=\"69\" x=\"1080.5\" y=\"275.3198\">from_region</text><text fill=\"#000000\" font-family=\"sans-serif\" font-size=\"11\" lengthAdjust=\"spacingAndGlyphs\" textLength=\"51\" x=\"1164.5\" y=\"275.3198\">VARCHAR</text><text fill=\"#000000\" font-family=\"sans-serif\" font-size=\"11\" lengthAdjust=\"spacingAndGlyphs\" textLength=\"53\" x=\"1080.5\" y=\"288.1245\">to_region</text><text fill=\"#000000\" font-family=\"sans-serif\" font-size=\"11\" lengthAdjust=\"spacingAndGlyphs\" textLength=\"51\" x=\"1148.5\" y=\"288.1245\">VARCHAR</text><text fill=\"#000000\" font-family=\"sans-serif\" font-size=\"11\" lengthAdjust=\"spacingAndGlyphs\" textLength=\"46\" x=\"1080.5\" y=\"300.9292\">capacity</text><text fill=\"#000000\" font-family=\"sans-serif\" font-size=\"11\" lengthAdjust=\"spacingAndGlyphs\" textLength=\"50\" x=\"1140.5\" y=\"300.9292\">NUMERIC</text><path d=\"M1126.5,8 L1126.5,33.1328 A0,0 0 0 0 1126.5,33.1328 L1174.5,33.1328 L1178.5,195.304 L1182.5,33.1328 L1230.5,33.1328 A0,0 0 0 0 1230.5,33.1328 L1230.5,18 L1220.5,8 L1126.5,8 A0,0 0 0 0 1126.5,8 \" fill=\"#FBFB77\" filter=\"url(#f12umcdk1oiobq)\" style=\"stroke: #A80036; stroke-width: 1.0;\"/><path d=\"M1220.5,8 L1220.5,18 L1230.5,18 L1220.5,8 \" fill=\"#FBFB77\" style=\"stroke: #A80036; stroke-width: 1.0;\"/><text fill=\"#000000\" font-family=\"sans-serif\" font-size=\"13\" lengthAdjust=\"spacingAndGlyphs\" textLength=\"83\" x=\"1132.5\" y=\"25.0669\">tabbing error</text><!--\n",
       "@startuml\n",
       "skinparam tabSize 2\n",
       "sprite $key [17x12/16z] bOqv3e1030CJRzPn9Fx_NWY7n4eqJ3TJs6OVa5pTpD-5tl3YyFHG-4DsqAOnWgawWp0r0KGagDuGMYMJxbMrBxzLPJ_O0G00\n",
       "hide methods\n",
       "hide stereotypes\n",
       "                                                  \n",
       "class t1 as \"abbb_constraints\" << (T,#FFAAAA) >> {\n",
       "    <$key><b>id</b> \\t INTEGER\n",
       "    - -\n",
       "    scenario \\t VARCHAR\n",
       "    constr \\t VARCHAR\n",
       "    val \\t NUMERIC\n",
       "}\n",
       "note top of t1: tabbing error\n",
       "                                                  \n",
       "class t2 as \"abbb_demand\" << (T,#FFAAAA) >> {\n",
       "    <$key><b>id</b> \\t INTEGER\n",
       "    - -\n",
       "    scenario \\t VARCHAR\n",
       "    region \\t VARCHAR\n",
       "    sector \\t VARCHAR\n",
       "    type \\t VARCHAR\n",
       "    demand \\t NUMERIC\n",
       "}\n",
       "note top of t2: tabbing error\n",
       "\n",
       "class t3 as \"abbb_emob\" << (T,#FFAAAA) >> {\n",
       "    <$key><b>id</b> \\t INTEGER\n",
       "    - -\n",
       "    scenario \\t VARCHAR\n",
       "    region \\t VARCHAR\n",
       "    energy \\t NUMERIC\n",
       "}\n",
       "note top of t3: tabbing error\n",
       "                                                  \n",
       "class t4 as \"abbb_regions\" << (T,#FFAAAA) >> {\n",
       "    <$key><b>id</b> \\t INTEGER\n",
       "    - -\n",
       "    region \\t VARCHAR\n",
       "    reg \\t VARCHAR\n",
       "    nutsid \\t VARCHAR\n",
       "    geom GEOMETRY\n",
       "}\n",
       "note top of t4: tabbing error\n",
       "             \n",
       "class t5 as \"abbb_simulation_parameter\" << (T,#FFAAAA) >> {\n",
       "    <$key><b>id</b> \\t INTEGER\n",
       "    - -\n",
       "    technology \\t VARCHAR\n",
       "    co2_var \\t NUMERIC\n",
       "    co2_fix \\t NUMERIC\n",
       "    eta_elec \\t NUMERIC\n",
       "    eta_th \\t NUMERIC\n",
       "    eta_el_chp \\t NUMERIC\n",
       "    eta_th_chp \\t NUMERIC\n",
       "    eta_chp_flex_el \\t NUMERIC\n",
       "    sigma_chp \\t NUMERIC\n",
       "    beta_chp \\t NUMERIC\n",
       "    opex_var \\t NUMERIC\n",
       "    opex_fix \\t NUMERIC\n",
       "    capex \\t NUMERIC\n",
       "    c_rate_in \\t NUMERIC\n",
       "    c_rate_out \\t NUMERIC\n",
       "    eta_in \\t NUMERIC\n",
       "    eta_out \\t NUMERIC\n",
       "    cap_loss \\t NUMERIC\n",
       "    lifetime \\t INTEGER\n",
       "    wacc \\t NUMERIC\n",
       "}\n",
       "note top of t5: normalization needed!\n",
       "\n",
       "class t6 as \"abbb_transformer\" << (T,#FFAAAA) >> {\n",
       "    <$key><b>id</b> \\t INTEGER\n",
       "    - -\n",
       "    scenario \\t VARCHAR\n",
       "    region \\t VARCHAR\n",
       "    ressource \\t VARCHAR\n",
       "    transformer \\t VARCHAR\n",
       "    power \\t NUMERIC\n",
       "}\n",
       "note top of t6: tabbing error\n",
       "\n",
       "class t7 as \"abbb_transmission_capacity\" << (T,#FFAAAA) >> {\n",
       "    <$key><b>id</b> \\t INTEGER\n",
       "    - -\n",
       "    scenario \\t VARCHAR\n",
       "    from_region \\t VARCHAR\n",
       "    to_region \\t VARCHAR\n",
       "    capacity \\t NUMERIC\n",
       "}\n",
       "note top of t7: tabbing error\n",
       "                                        \n",
       "@enduml\n",
       "\n",
       "PlantUML version 1.2018.11(Sat Sep 22 16:43:53 UTC 2018)\n",
       "(GPL source distribution)\n",
       "Java Runtime: OpenJDK Runtime Environment\n",
       "JVM: OpenJDK 64-Bit Server VM\n",
       "Java Version: 1.7.0_181-b01\n",
       "Operating System: Linux\n",
       "OS Version: 4.15.0-42-generic\n",
       "Default Encoding: UTF-8\n",
       "Language: en\n",
       "Country: null\n",
       "--></g></svg>"
      ],
      "text/plain": [
       "<IPython.core.display.SVG object>"
      ]
     },
     "execution_count": 17,
     "metadata": {},
     "output_type": "execute_result"
    }
   ],
   "source": [
    "%%plantuml --jar\n",
    "\n",
    "@startuml\n",
    "'ERM definitions:\n",
    "skinparam tabSize 2\n",
    "sprite $key [17x12/16z] bOqv3e1030CJRzPn9Fx_NWY7n4eqJ3TJs6OVa5pTpD-5tl3YyFHG-4DsqAOnWgawWp0r0KGagDuGMYMJxbMrBxzLPJ_O0G00\n",
    "!define Table(name,desc) class name as \"desc\" << (T,#FFAAAA) >>\n",
    "!define primary_key(x) <$key><b>x</b>\n",
    "!define foreign_key(x) <$key>x\n",
    "!define unique <b>U</b>\n",
    "!define not_null <b>N</b> \n",
    "hide methods\n",
    "hide stereotypes\n",
    "                                                  \n",
    "Table(t1, \"abbb_constraints\") {\n",
    "    primary_key(id) \\t INTEGER\n",
    "    --\n",
    "    scenario \\t VARCHAR\n",
    "    constr \\t VARCHAR\n",
    "    val \\t NUMERIC\n",
    "}\n",
    "note top of t1: tabbing error\n",
    "                                                  \n",
    "Table(t2, \"abbb_demand\") {\n",
    "    primary_key(id) \\t INTEGER\n",
    "    --\n",
    "    scenario \\t VARCHAR\n",
    "    region \\t VARCHAR\n",
    "    sector \\t VARCHAR\n",
    "    type \\t VARCHAR\n",
    "    demand \\t NUMERIC\n",
    "}\n",
    "note top of t2: tabbing error\n",
    "\n",
    "Table(t3, \"abbb_emob\") {\n",
    "    primary_key(id) \\t INTEGER\n",
    "    --\n",
    "    scenario \\t VARCHAR\n",
    "    region \\t VARCHAR\n",
    "    energy \\t NUMERIC\n",
    "}\n",
    "note top of t3: tabbing error\n",
    "                                                  \n",
    "Table(t4, \"abbb_regions\") {\n",
    "    primary_key(id) \\t INTEGER\n",
    "    --\n",
    "    region \\t VARCHAR\n",
    "    reg \\t VARCHAR\n",
    "    nutsid \\t VARCHAR\n",
    "    geom GEOMETRY\n",
    "}\n",
    "note top of t4: tabbing error\n",
    "             \n",
    "Table(t5, \"abbb_simulation_parameter\") {\n",
    "    primary_key(id) \\t INTEGER\n",
    "    --\n",
    "    technology \\t VARCHAR\n",
    "    co2_var \\t NUMERIC\n",
    "    co2_fix \\t NUMERIC\n",
    "    eta_elec \\t NUMERIC\n",
    "    eta_th \\t NUMERIC\n",
    "    eta_el_chp \\t NUMERIC\n",
    "    eta_th_chp \\t NUMERIC\n",
    "    eta_chp_flex_el \\t NUMERIC\n",
    "    sigma_chp \\t NUMERIC\n",
    "    beta_chp \\t NUMERIC\n",
    "    opex_var \\t NUMERIC\n",
    "    opex_fix \\t NUMERIC\n",
    "    capex \\t NUMERIC\n",
    "    c_rate_in \\t NUMERIC\n",
    "    c_rate_out \\t NUMERIC\n",
    "    eta_in \\t NUMERIC\n",
    "    eta_out \\t NUMERIC\n",
    "    cap_loss \\t NUMERIC\n",
    "    lifetime \\t INTEGER\n",
    "    wacc \\t NUMERIC\n",
    "}\n",
    "note top of t5: normalization needed!\n",
    "\n",
    "Table(t6, \"abbb_transformer\") {\n",
    "    primary_key(id) \\t INTEGER\n",
    "    --\n",
    "    scenario \\t VARCHAR\n",
    "    region \\t VARCHAR\n",
    "    ressource \\t VARCHAR\n",
    "    transformer \\t VARCHAR\n",
    "    power \\t NUMERIC\n",
    "}\n",
    "note top of t6: tabbing error\n",
    "\n",
    "Table(t7, \"abbb_transmission_capacity\") {\n",
    "    primary_key(id) \\t INTEGER\n",
    "    --\n",
    "    scenario \\t VARCHAR\n",
    "    from_region \\t VARCHAR\n",
    "    to_region \\t VARCHAR\n",
    "    capacity \\t NUMERIC\n",
    "}\n",
    "note top of t7: tabbing error\n",
    "                                        \n",
    "@enduml\n",
    "                                                  "
   ]
  }
 ],
 "metadata": {
  "celltoolbar": "Slideshow",
  "kernelspec": {
   "display_name": "Python3.7",
   "language": "python",
   "name": "python3.7"
  },
  "language_info": {
   "codemirror_mode": {
    "name": "ipython",
    "version": 3
   },
   "file_extension": ".py",
   "mimetype": "text/x-python",
   "name": "python",
   "nbconvert_exporter": "python",
   "pygments_lexer": "ipython3",
   "version": "3.7.0"
  },
  "livereveal": {
   "scroll": true
  },
  "rise": {
   "scroll": true
  }
 },
 "nbformat": 4,
 "nbformat_minor": 2
}
