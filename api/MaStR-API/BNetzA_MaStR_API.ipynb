{
 "cells": [
  {
   "cell_type": "markdown",
   "metadata": {},
   "source": [
    "<img src=\"http://openenergy-platform.org/static/OEP_logo_2_no_text.svg\" alt=\"OpenEnergy Platform\" height=\"100\" width=\"100\"  align=\"left\"/>\n",
    "<img src=\"http://reiner-lemoine-institut.de//wp-content/uploads/2015/09/rlilogo.png\" alt=\"RLI\" height=\"100\" width=\"100\" align=\"right\"/>\n",
    "\n",
    "# OpenEnergyPlatform\n",
    "<br>\n",
    "\n",
    "## Usage of the BNetzA-MaStR-API (WSDL)\n",
    "Webservice: https://www.marktstammdatenregister.de/<br>\n",
    "Dokumentation Zeep: https://python-zeep.readthedocs.io/en/master/<br>"
   ]
  },
  {
   "cell_type": "code",
   "execution_count": 1,
   "metadata": {},
   "outputs": [],
   "source": [
    "__copyright__ = \"© Reiner Lemoine Institut\"\n",
    "__license__   = \"GNU Affero General Public License Version 3 (AGPL-3.0)\"\n",
    "__url__       = \"https://www.gnu.org/licenses/agpl-3.0.html\"\n",
    "__author__    = \"Ludee\""
   ]
  },
  {
   "cell_type": "code",
   "execution_count": 2,
   "metadata": {},
   "outputs": [],
   "source": [
    "import pandas as pd\n",
    "import getpass\n",
    "\n",
    "import zeep\n",
    "from zeep import Client\n",
    "from zeep.helpers import serialize_object\n",
    "from zeep.wsse.username import UsernameToken\n",
    "from zeep.transports import Transport\n",
    "\n",
    "from requests import Session\n",
    "from requests.auth import HTTPBasicAuth  # or HTTPDigestAuth, or OAuth1, etc.\n",
    "\n",
    "from IPython.core.display import HTML"
   ]
  },
  {
   "cell_type": "markdown",
   "metadata": {},
   "source": [
    "## Test Zeep"
   ]
  },
  {
   "cell_type": "code",
   "execution_count": 3,
   "metadata": {},
   "outputs": [
    {
     "name": "stdout",
     "output_type": "stream",
     "text": [
      "Your input parameters are Zeep and is cool\n"
     ]
    }
   ],
   "source": [
    "zeep_wsdl = 'http://www.soapclient.com/xml/soapresponder.wsdl'\n",
    "zeep_client = zeep.Client(wsdl=zeep_wsdl)\n",
    "print(zeep_client.service.Method1('Zeep', 'is cool'))"
   ]
  },
  {
   "cell_type": "markdown",
   "metadata": {},
   "source": [
    "## Reading data from \"Test-Webdienst\"\n",
    "\n",
    "Dokumentation: <a href='https://www.marktstammdatenregister.de/MaStRHilfe/files/webdienst/2019-01_31%20WSDL%20MaStR%20Webdienste%20V1.2%20-%20Testsystem.zip' target='_blank'>Dienstbeschreibung 1.2</a><br>\n",
    "WSDL: https://test.marktstammdatenregister.de/MaStRAPI/wsdl/mastr.wsdl"
   ]
  },
  {
   "cell_type": "code",
   "execution_count": 4,
   "metadata": {},
   "outputs": [
    {
     "name": "stderr",
     "output_type": "stream",
     "text": [
      "Error during xml -> python translation\n",
      "Traceback (most recent call last):\n",
      "  File \"C:\\Anaconda3\\envs\\py36_mastr\\lib\\site-packages\\zeep\\xsd\\types\\simple.py\", line 61, in parse_xmlelement\n",
      "    return self.pythonvalue(xmlelement.text)\n",
      "  File \"C:\\Anaconda3\\envs\\py36_mastr\\lib\\site-packages\\zeep\\xsd\\types\\builtins.py\", line 148, in pythonvalue\n",
      "    return isodate.parse_datetime(value)\n",
      "  File \"C:\\Anaconda3\\envs\\py36_mastr\\lib\\site-packages\\isodate\\isodatetime.py\", line 56, in parse_datetime\n",
      "    tmptime = parse_time(timestring)\n",
      "  File \"C:\\Anaconda3\\envs\\py36_mastr\\lib\\site-packages\\isodate\\isotime.py\", line 133, in parse_time\n",
      "    tzinfo)\n",
      "ValueError: second must be in 0..59\n"
     ]
    },
    {
     "name": "stdout",
     "output_type": "stream",
     "text": [
      "{\n",
      "    'Ergebniscode': 'OK',\n",
      "    'AufrufVeraltet': False,\n",
      "    'AufrufLebenszeitEnde': None,\n",
      "    'AufrufVersion': 1,\n",
      "    'LokaleUhrzeit': datetime.datetime(2019, 2, 2, 15, 39, 55, 961877, tzinfo=<FixedOffset '+01:00'>)\n",
      "}\n"
     ]
    }
   ],
   "source": [
    "test_wsdl = 'https://test.marktstammdatenregister.de/MaStRAPI/wsdl/mastr.wsdl'\n",
    "test_client = zeep.Client(wsdl=test_wsdl)\n",
    "LokaleUhrzeit = test_client.service.GetLokaleUhrzeit()\n",
    "print(LokaleUhrzeit)"
   ]
  },
  {
   "cell_type": "markdown",
   "metadata": {},
   "source": [
    "How do you prevent this error?"
   ]
  },
  {
   "cell_type": "code",
   "execution_count": 5,
   "metadata": {},
   "outputs": [
    {
     "name": "stdout",
     "output_type": "stream",
     "text": [
      "                  index                             value\n",
      "0          Ergebniscode                                OK\n",
      "1        AufrufVeraltet                             False\n",
      "2  AufrufLebenszeitEnde                              None\n",
      "3         AufrufVersion                                 1\n",
      "4         LokaleUhrzeit  2019-02-02 15:39:55.961877+01:00\n"
     ]
    }
   ],
   "source": [
    "LocalTime = serialize_object(LokaleUhrzeit)\n",
    "df = pd.Series(LocalTime).to_frame('value').reset_index()\n",
    "print(df)"
   ]
  },
  {
   "cell_type": "code",
   "execution_count": 6,
   "metadata": {},
   "outputs": [
    {
     "name": "stdout",
     "output_type": "stream",
     "text": [
      "           index                             value\n",
      "4  LokaleUhrzeit  2019-02-02 15:39:55.961877+01:00\n"
     ]
    }
   ],
   "source": [
    "date = df.loc[df['index'] == 'LokaleUhrzeit']\n",
    "print(date)"
   ]
  },
  {
   "cell_type": "code",
   "execution_count": null,
   "metadata": {},
   "outputs": [],
   "source": []
  },
  {
   "cell_type": "markdown",
   "metadata": {},
   "source": [
    "## Reading data from \"Produktions-Webdienst\"\n",
    "\n",
    "Dokumentation: <a href='https://www.marktstammdatenregister.de/MaStRHilfe/files/webdienst/2019-01_31%20WSDL%20MaStR%20Webdienste%20V1.2%20-%20Produktion.zip' target='_blank'>Dienstbeschreibung 1.2</a><br>\n",
    "WSDL: https://www.marktstammdatenregister.de/MaStRAPI/wsdl/mastr.wsdl"
   ]
  },
  {
   "cell_type": "markdown",
   "metadata": {},
   "source": [
    "### Without user (only _GetLokaleUhrzeit_ possible)\n",
    "\n",
    "https://www.marktstammdatenregister.de/MaStRHilfe/subpages/webdienst.html<br>\n",
    "**Welche Zugangsberechtigungen sind erforderlich, um den Webdienst zu nutzen?**\n",
    "\n",
    "_Die Funkion GetLokaleUhrzeit ist die einzige Funktion, für die keine Authentifizierung erforderlich ist. Sie dient im Wesentlichen dazu, die Verbindung zwischen Client und Server zu testen. Für alle anderen Webdienst-Funktionen ist eine Authentifizierung des Benutzers erforderlich. Dies erfolgt durch die Übermittlung eines Webdienst-Key des Webdienst-Benutzers._"
   ]
  },
  {
   "cell_type": "code",
   "execution_count": 7,
   "metadata": {},
   "outputs": [
    {
     "name": "stderr",
     "output_type": "stream",
     "text": [
      "Error during xml -> python translation\n",
      "Traceback (most recent call last):\n",
      "  File \"C:\\Anaconda3\\envs\\py36_mastr\\lib\\site-packages\\zeep\\xsd\\types\\simple.py\", line 61, in parse_xmlelement\n",
      "    return self.pythonvalue(xmlelement.text)\n",
      "  File \"C:\\Anaconda3\\envs\\py36_mastr\\lib\\site-packages\\zeep\\xsd\\types\\builtins.py\", line 148, in pythonvalue\n",
      "    return isodate.parse_datetime(value)\n",
      "  File \"C:\\Anaconda3\\envs\\py36_mastr\\lib\\site-packages\\isodate\\isodatetime.py\", line 56, in parse_datetime\n",
      "    tmptime = parse_time(timestring)\n",
      "  File \"C:\\Anaconda3\\envs\\py36_mastr\\lib\\site-packages\\isodate\\isotime.py\", line 133, in parse_time\n",
      "    tzinfo)\n",
      "ValueError: second must be in 0..59\n"
     ]
    },
    {
     "name": "stdout",
     "output_type": "stream",
     "text": [
      "{\n",
      "    'Ergebniscode': 'OK',\n",
      "    'AufrufVeraltet': False,\n",
      "    'AufrufLebenszeitEnde': None,\n",
      "    'AufrufVersion': 1,\n",
      "    'LokaleUhrzeit': datetime.datetime(2019, 2, 2, 15, 40, 8, 592111, tzinfo=<FixedOffset '+01:00'>)\n",
      "}\n"
     ]
    }
   ],
   "source": [
    "wsdl = 'https://www.marktstammdatenregister.de/MaStRAPI/wsdl/mastr.wsdl'\n",
    "client = zeep.Client(wsdl=wsdl)\n",
    "LokaleUhrzeit = client.service.GetLokaleUhrzeit()\n",
    "print(LokaleUhrzeit)"
   ]
  },
  {
   "cell_type": "code",
   "execution_count": 8,
   "metadata": {},
   "outputs": [
    {
     "name": "stdout",
     "output_type": "stream",
     "text": [
      "                  index                             value\n",
      "0          Ergebniscode                                OK\n",
      "1        AufrufVeraltet                             False\n",
      "2  AufrufLebenszeitEnde                              None\n",
      "3         AufrufVersion                                 1\n",
      "4         LokaleUhrzeit  2019-02-02 15:40:08.592111+01:00\n"
     ]
    }
   ],
   "source": [
    "LocalTime = serialize_object(LokaleUhrzeit)\n",
    "df = pd.Series(LocalTime).to_frame('value').reset_index()\n",
    "print(df)"
   ]
  },
  {
   "cell_type": "code",
   "execution_count": null,
   "metadata": {},
   "outputs": [],
   "source": []
  },
  {
   "cell_type": "markdown",
   "metadata": {},
   "source": [
    "### Registered MaStR user\n",
    "\n",
    "You must be registered to use the API. Link to <a href='https://www.marktstammdatenregister.de/MaStR/Assistent/AuswahlAssistent' target='_blank'>register</a>.\n"
   ]
  },
  {
   "cell_type": "code",
   "execution_count": null,
   "metadata": {},
   "outputs": [],
   "source": [
    "wsdl = 'https://www.marktstammdatenregister.de/MaStRAPI/wsdl/mastr.wsdl'\n",
    "apiKey = getpass.getpass('Api-Key:')\n",
    "myMastrNr = getpass.getpass('MaStR-Nr.:')\n",
    "myMarktrolleNr = getpass.getpass('Marktrolle-Nr.:')\n",
    "client = Client(wsdl)"
   ]
  },
  {
   "cell_type": "code",
   "execution_count": null,
   "metadata": {},
   "outputs": [],
   "source": [
    "# GetLokaleUhrzeitMitAuthentifizierung\n",
    "c = client.service.GetLokaleUhrzeitMitAuthentifizierung(apiKey=apiKey)\n",
    "s = serialize_object(c)\n",
    "df = pd.Series(s).to_frame('value').reset_index()\n",
    "print(df)"
   ]
  },
  {
   "cell_type": "code",
   "execution_count": null,
   "metadata": {},
   "outputs": [],
   "source": [
    "# GetListeKatalogkategorien\n",
    "c = client.service.GetListeKatalogkategorien(apiKey=apiKey)\n",
    "s = serialize_object(c)\n",
    "df = pd.Series(s).to_frame('value').reset_index()\n",
    "print(df)"
   ]
  },
  {
   "cell_type": "code",
   "execution_count": null,
   "metadata": {},
   "outputs": [],
   "source": []
  },
  {
   "cell_type": "code",
   "execution_count": null,
   "metadata": {},
   "outputs": [],
   "source": [
    "# GetAktuellerStandTageskontingent\n",
    "c = client.service.GetAktuellerStandTageskontingent(apiKey=apiKey, marktakteurMastrNummer=myMarktrolleNr,)\n",
    "s = serialize_object(c)\n",
    "df = pd.Series(s).to_frame('value').reset_index()\n",
    "print(df)"
   ]
  },
  {
   "cell_type": "code",
   "execution_count": null,
   "metadata": {},
   "outputs": [],
   "source": [
    "# GetListeAlleMarktakteure\n",
    "c = client.service.GetListeAlleMarktakteure(apiKey=apiKey)\n",
    "s = serialize_object(c)\n",
    "df = pd.Series(s).to_frame('value').reset_index()\n",
    "print(df)"
   ]
  },
  {
   "cell_type": "code",
   "execution_count": null,
   "metadata": {},
   "outputs": [],
   "source": [
    "# GetListeFreigegebeneLokationen\n",
    "c = client.service.GetListeFreigegebeneLokationen(apiKey=apiKey,\n",
    "                                          marktakteurMastrNummer=myMarktrolleNr)\n",
    "s = serialize_object(c)\n",
    "df = pd.Series(s).to_frame('value').reset_index()\n",
    "print(df)"
   ]
  },
  {
   "cell_type": "code",
   "execution_count": null,
   "metadata": {},
   "outputs": [],
   "source": []
  }
 ],
 "metadata": {
  "kernelspec": {
   "display_name": "Python 3",
   "language": "python",
   "name": "python3"
  },
  "language_info": {
   "codemirror_mode": {
    "name": "ipython",
    "version": 3
   },
   "file_extension": ".py",
   "mimetype": "text/x-python",
   "name": "python",
   "nbconvert_exporter": "python",
   "pygments_lexer": "ipython3",
   "version": "3.6.8"
  }
 },
 "nbformat": 4,
 "nbformat_minor": 2
}
