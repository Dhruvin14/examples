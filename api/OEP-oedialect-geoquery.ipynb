{
 "cells": [
  {
   "cell_type": "markdown",
   "metadata": {},
   "source": [
    "<img src=\"http://193.175.187.164/static/OEP_logo_2_no_text.svg\" alt=\"OpenEnergy Platform\" height=\"100\" width=\"100\"  align=\"left\"/>\n",
    "<img src=\"http://reiner-lemoine-institut.de//wp-content/uploads/2015/09/rlilogo.png\" alt=\"RLI\" height=\"100\" width=\"100\" align=\"right\"/>\n",
    "\n",
    "# OpenEnergy Platform\n",
    "<br>\n",
    "## Usage of OpenEnergyPlatform API-Dialect (oedialect)\n",
    "Repository: https://github.com/openego/oedialect"
   ]
  },
  {
   "cell_type": "code",
   "execution_count": null,
   "metadata": {},
   "outputs": [],
   "source": [
    "__copyright__ = \"Reiner Lemoine Institut\"\n",
    "__license__   = \"GNU Affero General Public License Version 3 (AGPL-3.0)\"\n",
    "__url__       = \"https://github.com/openego/data_processing/blob/master/LICENSE\"\n",
    "__author__    = \"henhuy, Ludee\""
   ]
  },
  {
   "cell_type": "code",
   "execution_count": null,
   "metadata": {},
   "outputs": [],
   "source": [
    "import pandas as pd\n",
    "import getpass\n",
    "import sqlalchemy as sa\n",
    "from sqlalchemy.orm import sessionmaker\n",
    "import oedialect"
   ]
  },
  {
   "cell_type": "code",
   "execution_count": null,
   "metadata": {},
   "outputs": [],
   "source": [
    "# Whitespaces are not a problem for setting up the url!\n",
    "user = input('Enter OEP-username:')\n",
    "token = getpass.getpass('Token:')"
   ]
  },
  {
   "cell_type": "code",
   "execution_count": null,
   "metadata": {},
   "outputs": [],
   "source": [
    "# Create Engine:\n",
    "OEP_URL = 'oep.iks.cs.ovgu.de'\n",
    "OED_STRING = f'postgresql+oedialect://{user}:{token}@{OEP_URL}'\n",
    "\n",
    "engine = sa.create_engine(OED_STRING)\n",
    "metadata = sa.MetaData(bind=engine)"
   ]
  },
  {
   "cell_type": "markdown",
   "metadata": {},
   "source": [
    "## Setup Table"
   ]
  },
  {
   "cell_type": "code",
   "execution_count": null,
   "metadata": {},
   "outputs": [],
   "source": [
    "tname = 'example_dialect_table'\n",
    "sname = 'sandbox'\n",
    "\n",
    "table = sa.Table(\n",
    "    tname,\n",
    "    metadata,\n",
    "    sa.Column('name', sa.VARCHAR(50)),\n",
    "    sa.Column('age', sa.INTEGER),\n",
    "    schema=sname\n",
    ")"
   ]
  },
  {
   "cell_type": "markdown",
   "metadata": {},
   "source": [
    "## Create Table"
   ]
  },
  {
   "cell_type": "code",
   "execution_count": null,
   "metadata": {},
   "outputs": [],
   "source": [
    "conn = engine.connect()\n",
    "print('Connection established')\n",
    "if not engine.dialect.has_table(conn, tname, sname):\n",
    "    table.create()\n",
    "    print('Created table')"
   ]
  },
  {
   "cell_type": "markdown",
   "metadata": {},
   "source": [
    "## Insert into Table"
   ]
  },
  {
   "cell_type": "code",
   "execution_count": null,
   "metadata": {},
   "outputs": [],
   "source": [
    "Session = sessionmaker(bind=engine)\n",
    "session = Session()\n",
    "try:\n",
    "    insert_statement = table.insert().values(\n",
    "        [\n",
    "            dict(name='Peter', age=25),\n",
    "            dict(name='Inge', age=42),\n",
    "            dict(name='Horst', age=36)\n",
    "        ]\n",
    "    )\n",
    "    session.execute(insert_statement)\n",
    "    session.commit()\n",
    "    print('Insert successful!')\n",
    "except Exception as e:\n",
    "    session.rollback()\n",
    "    raise\n",
    "finally:\n",
    "    session.close()"
   ]
  },
  {
   "cell_type": "markdown",
   "metadata": {},
   "source": [
    "## Select from Table"
   ]
  },
  {
   "cell_type": "code",
   "execution_count": null,
   "metadata": {},
   "outputs": [],
   "source": [
    "# ORM classes -> ego.io\n",
    "from sqlalchemy import BigInteger, Boolean, Column, Date, Float, Integer, Numeric, String, Table, Text, text\n",
    "from geoalchemy2.types import Geometry\n",
    "from sqlalchemy.ext.declarative import declarative_base\n",
    "\n",
    "Base = declarative_base()\n",
    "metadata = Base.metadata\n",
    "\n",
    "class BkgVg2502Lan(Base):\n",
    "    __tablename__ = 'bkg_vg250_2_lan'\n",
    "    __table_args__ = {'schema': 'boundaries'}\n",
    "\n",
    "    reference_date = Column(Date, primary_key=True, nullable=False)\n",
    "    id = Column(Integer, primary_key=True, nullable=False, server_default=text(\"nextval('boundaries.bkg_vg250_2_lan_id_seq'::regclass)\"))\n",
    "    ade = Column(Float(53))\n",
    "    gf = Column(Float(53))\n",
    "    bsg = Column(Float(53))\n",
    "    rs = Column(String(12))\n",
    "    ags = Column(String(12))\n",
    "    sdv_rs = Column(String(12))\n",
    "    gen = Column(String(50))\n",
    "    bez = Column(String(50))\n",
    "    ibz = Column(Float(53))\n",
    "    bem = Column(String(75))\n",
    "    nbd = Column(String(4))\n",
    "    sn_l = Column(String(2))\n",
    "    sn_r = Column(String(1))\n",
    "    sn_k = Column(String(2))\n",
    "    sn_v1 = Column(String(2))\n",
    "    sn_v2 = Column(String(2))\n",
    "    sn_g = Column(String(3))\n",
    "    fk_s3 = Column(String(2))\n",
    "    nuts = Column(String(5))\n",
    "    rs_0 = Column(String(12))\n",
    "    ags_0 = Column(String(12))\n",
    "    wsk = Column(Date)\n",
    "    debkg_id = Column(String(16))\n",
    "geom = Column(Geometry('MULTIPOLYGON', 31467), index=True)"
   ]
  },
  {
   "cell_type": "code",
   "execution_count": null,
   "metadata": {},
   "outputs": [],
   "source": [
    "Session = sessionmaker(bind=engine)\n",
    "session = Session()\n",
    "print(session.query(BkgVg2502Lan).all())\n",
    "session.close()"
   ]
  },
  {
   "cell_type": "code",
   "execution_count": null,
   "metadata": {},
   "outputs": [],
   "source": [
    "df = pd.DataFrame(session.query(BkgVg2502Lan.id,BkgVg2502Lan.gen, BkgVg2502Lan.reference_date)\n",
    "                  .filter(BkgVg2502Lan.reference_date == '2016-01-01').all())\n",
    "df"
   ]
  },
  {
   "cell_type": "code",
   "execution_count": null,
   "metadata": {},
   "outputs": [],
   "source": [
    "print(\"----> order_by(id):\")\n",
    "query = session.query(BkgVg2502Lan).order_by(BkgVg2502Lan.ags_0)\n",
    "for _row in query.all():\n",
    "    print(ags_0)"
   ]
  },
  {
   "cell_type": "code",
   "execution_count": null,
   "metadata": {},
   "outputs": [],
   "source": []
  }
 ],
 "metadata": {
  "kernelspec": {
   "display_name": "Python 3",
   "language": "python",
   "name": "python3"
  },
  "language_info": {
   "codemirror_mode": {
    "name": "ipython",
    "version": 3
   },
   "file_extension": ".py",
   "mimetype": "text/x-python",
   "name": "python",
   "nbconvert_exporter": "python",
   "pygments_lexer": "ipython3",
   "version": "3.6.6"
  }
 },
 "nbformat": 4,
 "nbformat_minor": 2
}
